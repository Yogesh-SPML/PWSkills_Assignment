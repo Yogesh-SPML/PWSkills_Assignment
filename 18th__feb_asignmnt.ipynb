{
  "nbformat": 4,
  "nbformat_minor": 0,
  "metadata": {
    "colab": {
      "provenance": []
    },
    "kernelspec": {
      "name": "python3",
      "display_name": "Python 3"
    },
    "language_info": {
      "name": "python"
    }
  },
  "cells": [
    {
      "cell_type": "code",
      "source": [
        "#Q1. What is an API? Give an example, where an API is used in real life."
      ],
      "metadata": {
        "id": "kIBrIGyPAwCf"
      },
      "execution_count": 8,
      "outputs": []
    },
    {
      "cell_type": "markdown",
      "source": [
        "Web API stands for Application Programming Interface, which is used to allow different software applications to communicate with each other over the internet. A Web API is an interface that is exposed over the web, which allows developers to access the functionality and data of a web application or service. It is used to enable communication between different software applications and services, regardless of the programming language or platform they are built on. Web APIs are widely used in web development to create web services, which can be used by other applications to access data or perform specific tasks. Examples of Web APIs include Google Maps API, Twitter API, and Facebook Graph API."
      ],
      "metadata": {
        "id": "XcfoWphAAysB"
      }
    },
    {
      "cell_type": "code",
      "source": [
        "#Q2. Give advantages and disadvantages of using API."
      ],
      "metadata": {
        "id": "JA5JS6otAyHk"
      },
      "execution_count": 9,
      "outputs": []
    },
    {
      "cell_type": "markdown",
      "source": [
        "Advantages of using API:\n",
        "- Flexibility: APIs allow developers to access the functionality and data of a web application or service, which can be used to create new applications or integrate existing ones with other software.\n",
        "\n",
        "- Scalability: APIs can handle a large number of requests from different applications or services, making it easier to scale up and handle increased traffic.\n",
        "- Integration: APIs can be used to integrate different software applications and services, allowing them to work together seamlessly.\n",
        "\n",
        "Disadvantages of using API:\n",
        "- Security: APIs can be vulnerable to security threats, such as hacking and data breaches, which can compromise the data and functionality of the web application or service.\n",
        "- Dependency: APIs can create a dependency on external services, which can affect the performance and reliability of the application or service.\n"
      ],
      "metadata": {
        "id": "Ndcbh62yA4-O"
      }
    },
    {
      "cell_type": "code",
      "source": [
        "#Q3. What is a Web API? Differentiate between API and Web API."
      ],
      "metadata": {
        "id": "l1xZ5VKQA4qu"
      },
      "execution_count": 10,
      "outputs": []
    },
    {
      "cell_type": "markdown",
      "source": [
        "A Web API is a type of API that is exposed over the web, which allows developers to access the functionality and data of a web application or service. Web APIs use HTTP protocols to enable communication between different software applications and services, regardless of the programming language or platform they are built on.\n",
        "\n",
        "The main difference between API and Web API is that API can be used to build software applications for different platforms and devices, such as desktop, mobile, and IoT devices, while Web API is specifically designed to enable communication between different software applications and services over the web. Web APIs use HTTP protocols to enable communication between different software applications and services, while APIs can use different protocols and technologies, such as REST, SOAP, and XML-RPC."
      ],
      "metadata": {
        "id": "oAF1ZMLFBMjn"
      }
    },
    {
      "cell_type": "code",
      "source": [
        "#Q5. Differentiate between REST and SOAP."
      ],
      "metadata": {
        "id": "SI9TnjlqBMPj"
      },
      "execution_count": 11,
      "outputs": []
    },
    {
      "cell_type": "markdown",
      "source": [
        "REST (Representational State Transfer) and SOAP (Simple Object Access Protocol) are two different approaches to building web services.\n",
        "REST is an architectural style that uses HTTP protocols to enable communication between different software applications and services. REST is designed to be simple, lightweight, and scalable, and it uses a set of standard HTTP methods, such as GET, POST, PUT, and DELETE, to perform different operations on resources. \n",
        "\n",
        "SOAP, on the other hand, is a protocol that uses XML to enable communication between different software applications and services. S\n"
      ],
      "metadata": {
        "id": "gskMkwUBBpJ5"
      }
    },
    {
      "cell_type": "code",
      "source": [],
      "metadata": {
        "id": "O6SjOTmeBo3E"
      },
      "execution_count": null,
      "outputs": []
    }
  ]
}