{
 "cells": [
  {
   "cell_type": "markdown",
   "id": "4c28bdd3-a59d-4b16-ba94-644025470905",
   "metadata": {},
   "source": [
    "Q1. Explain with an example each when to use a for loop and a while loop."
   ]
  },
  {
   "cell_type": "markdown",
   "id": "1bb7d98e-5368-4104-9fc9-1d2402a7b645",
   "metadata": {},
   "source": [
    "ANS= The while loop requires relevant variables to be ready, it runs when it meets the condition. A for loop is used for iterating over a sequence (that is either a list, a tuple, a dictionary, a set, or a string)."
   ]
  },
  {
   "cell_type": "code",
   "execution_count": 56,
   "id": "12896f68-883e-42e5-8057-4ce85a00935a",
   "metadata": {},
   "outputs": [
    {
     "name": "stdout",
     "output_type": "stream",
     "text": [
      "1\n",
      "2\n",
      "3\n",
      "4\n",
      "5\n"
     ]
    }
   ],
   "source": [
    "# Example for for loop:\n",
    "\n",
    "for i in range(1,6):\n",
    "    print(i)"
   ]
  },
  {
   "cell_type": "code",
   "execution_count": 60,
   "id": "8c0a439f-6e2f-4a0c-83b9-d925e7ab3490",
   "metadata": {},
   "outputs": [
    {
     "name": "stdout",
     "output_type": "stream",
     "text": [
      "1\n",
      "2\n",
      "3\n",
      "4\n",
      "5\n"
     ]
    }
   ],
   "source": [
    "# While loop example:\n",
    "\n",
    "i = 1\n",
    "\n",
    "while i<6:\n",
    "    print(i)\n",
    "    i = i+1"
   ]
  },
  {
   "cell_type": "markdown",
   "id": "b879eb0c-1f41-4c57-ab10-64819dda7b9c",
   "metadata": {},
   "source": [
    "Q2. Write a python program to print the sum and product of the first 10 natural numbers using for\n",
    "and while loop."
   ]
  },
  {
   "cell_type": "code",
   "execution_count": 75,
   "id": "70e4bd41-05c1-4fa1-93ec-cc249ae7dd62",
   "metadata": {},
   "outputs": [
    {
     "name": "stdout",
     "output_type": "stream",
     "text": [
      "The sum is 55 and the product is 3628800\n"
     ]
    }
   ],
   "source": [
    "# using for loop:\n",
    "\n",
    "s = 0\n",
    "p = 1\n",
    "\n",
    "for i in range(1,11):\n",
    "    s = s+i\n",
    "    p = p*i\n",
    "    \n",
    "print(\"The sum is\",s, \"and the product is\",p)"
   ]
  },
  {
   "cell_type": "code",
   "execution_count": 78,
   "id": "f908fe9b-d8e8-4033-8be4-aee634391cbd",
   "metadata": {},
   "outputs": [
    {
     "name": "stdout",
     "output_type": "stream",
     "text": [
      "The sum is 55 and the product is 3628800\n"
     ]
    }
   ],
   "source": [
    "#using while loop:\n",
    "\n",
    "i = 1\n",
    "s = 0\n",
    "p = 1\n",
    "\n",
    "while(i<11):\n",
    "    s = s+i\n",
    "    p = p*i\n",
    "    i = i+1\n",
    "print(\"The sum is\",s, \"and the product is\",p)"
   ]
  },
  {
   "cell_type": "markdown",
   "id": "9c6450de-bf58-4a4b-975a-b5117152069f",
   "metadata": {},
   "source": [
    "Q3. Create a python program to compute the electricity bill for a household.\n",
    "\n",
    "The per-unit charges in rupees are as follows: For the first 100 units, the user will be charged Rs. 4.5 per\n",
    "unit, for the next 100 units, the user will be charged Rs. 6 per unit, and for the next 100 units, the user will\n",
    "be charged Rs. 10 per unit, After 300 units and above the user will be charged Rs. 20 per unit."
   ]
  },
  {
   "cell_type": "code",
   "execution_count": 92,
   "id": "fefc17b4-27d6-4353-bed3-20f576611ef6",
   "metadata": {},
   "outputs": [
    {
     "name": "stdout",
     "output_type": "stream",
     "text": [
      "Please enter the unit consumed:\n"
     ]
    },
    {
     "name": "stdin",
     "output_type": "stream",
     "text": [
      " 310\n"
     ]
    }
   ],
   "source": [
    "print(\"Please enter the unit consumed:\")\n",
    "units = int(input())"
   ]
  },
  {
   "cell_type": "code",
   "execution_count": 93,
   "id": "131e619d-dd2a-4616-a346-82fcf94e0b54",
   "metadata": {},
   "outputs": [
    {
     "name": "stdout",
     "output_type": "stream",
     "text": [
      "Total bill is: 2250\n"
     ]
    }
   ],
   "source": [
    "total_bill = 0\n",
    "\n",
    "if(units<=100):\n",
    "    total_bill = units*4.5\n",
    "elif(units<=200):\n",
    "    total_bill = 450 + (units-100)*6\n",
    "elif(units<=300):\n",
    "    total_bill = 450+600+(units-200)*10\n",
    "else:\n",
    "    total_bill = 450+600+1000+(units-300)*20\n",
    "    \n",
    "print(\"Total bill is:\", total_bill)\n"
   ]
  },
  {
   "cell_type": "markdown",
   "id": "8b88acb3-3891-41dc-a729-6903cf4d0280",
   "metadata": {},
   "source": [
    "Q4. Create a list of numbers from 1 to 100. Use for loop and while loop to calculate the cube of each\n",
    "number and if the cube of that number is divisible by 4 or 5 then append that number in a list and print\n",
    "that list."
   ]
  },
  {
   "cell_type": "code",
   "execution_count": 97,
   "id": "b8dbaf2a-1105-4be1-99f5-4b3d09731f4f",
   "metadata": {},
   "outputs": [],
   "source": [
    "l = [ i for i in range(1,101)]"
   ]
  },
  {
   "cell_type": "code",
   "execution_count": 105,
   "id": "37b29536-5e42-4a73-899f-2b9be25baebe",
   "metadata": {},
   "outputs": [
    {
     "name": "stdout",
     "output_type": "stream",
     "text": [
      "[8, 64, 125, 216, 512, 1000, 1728, 2744, 3375, 4096, 5832, 8000, 10648, 13824, 15625, 17576, 21952, 27000, 32768, 39304, 42875, 46656, 54872, 64000, 74088, 85184, 91125, 97336, 110592, 125000, 140608, 157464, 166375, 175616, 195112, 216000, 238328, 262144, 274625, 287496, 314432, 343000, 373248, 405224, 421875, 438976, 474552, 512000, 551368, 592704, 614125, 636056, 681472, 729000, 778688, 830584, 857375, 884736, 941192, 1000000]\n"
     ]
    }
   ],
   "source": [
    "\n",
    "#Using for loop\n",
    "print([i**3 for i in l if i**3%4==0 or i**3%5==0])"
   ]
  },
  {
   "cell_type": "code",
   "execution_count": 106,
   "id": "ca5d653b-aded-446b-a90e-9b02c2d25bdb",
   "metadata": {},
   "outputs": [
    {
     "name": "stdout",
     "output_type": "stream",
     "text": [
      "[8, 64, 125, 216, 512, 1000, 1728, 2744, 3375, 4096, 5832, 8000, 10648, 13824, 15625, 17576, 21952, 27000, 32768, 39304, 42875, 46656, 54872, 64000, 74088, 85184, 91125, 97336, 110592, 125000, 140608, 157464, 166375, 175616, 195112, 216000, 238328, 262144, 274625, 287496, 314432, 343000, 373248, 405224, 421875, 438976, 474552, 512000, 551368, 592704, 614125, 636056, 681472, 729000, 778688, 830584, 857375, 884736, 941192, 1000000]\n"
     ]
    }
   ],
   "source": [
    "#using for while loop:\n",
    "\n",
    "i = 1\n",
    "new_list =[]\n",
    "while i< 101:\n",
    "    if(i**3%4==0 or i**3%5==0):\n",
    "        new_list.append(i**3)\n",
    "    i=i+1\n",
    "\n",
    "print(new_list)\n",
    "\n",
    "\n"
   ]
  },
  {
   "cell_type": "code",
   "execution_count": 101,
   "id": "39b6efbe-7b47-4b0f-8b10-26e7d8bd57a3",
   "metadata": {},
   "outputs": [
    {
     "data": {
      "text/plain": [
       "9"
      ]
     },
     "execution_count": 101,
     "metadata": {},
     "output_type": "execute_result"
    }
   ],
   "source": []
  },
  {
   "cell_type": "code",
   "execution_count": null,
   "id": "09724152-397f-4477-b639-dc598d9df068",
   "metadata": {},
   "outputs": [],
   "source": []
  }
 ],
 "metadata": {
  "kernelspec": {
   "display_name": "Python 3 (ipykernel)",
   "language": "python",
   "name": "python3"
  },
  "language_info": {
   "codemirror_mode": {
    "name": "ipython",
    "version": 3
   },
   "file_extension": ".py",
   "mimetype": "text/x-python",
   "name": "python",
   "nbconvert_exporter": "python",
   "pygments_lexer": "ipython3",
   "version": "3.10.8"
  }
 },
 "nbformat": 4,
 "nbformat_minor": 5
}
