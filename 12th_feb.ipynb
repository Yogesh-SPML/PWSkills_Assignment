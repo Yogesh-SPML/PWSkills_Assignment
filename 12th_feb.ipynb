{
  "cells": [
    {
      "cell_type": "code",
      "source": [
        "# Q1. What is Exeption in pthon? Write the difference between Exeptions and syntax errors."
      ],
      "metadata": {
        "id": "1eV9tmiarE1O"
      },
      "execution_count": 2,
      "outputs": []
    },
    {
      "cell_type": "markdown",
      "source": [
        "An exception is an event that occurs during the execution of a program that disrupts the normal flow of instructions. It's an error that occurs during the execution of a program.\n",
        "\n",
        "Syntax errors, on the other hand, occur when there is a problem with the syntax of the program. They occur when the code is being compiled and prevent the program from running at all.\n",
        "\n",
        "The main difference between exceptions and syntax errors is that exceptions occur during the execution of a program, while syntax errors occur during the compilation of the program."
      ],
      "metadata": {
        "id": "0pv2eZyQ1jJo"
      }
    },
    {
      "cell_type": "code",
      "source": [
        "#Q2. What happened when exception is not handeled. Give example"
      ],
      "metadata": {
        "id": "DvcSziRj1nw8"
      },
      "execution_count": 3,
      "outputs": []
    },
    {
      "cell_type": "markdown",
      "source": [
        "When an exception is not handled, it causes the program to terminate abruptly, and the error message is displayed on the console. This can be problematic for the user, as they may not know how to fix the error or what went wrong.\n",
        "\n",
        "For example, if you're trying to open a file in Python that doesn't exist, you'll get a FileNotFoundError exception. If you don't handle this exception, the program will terminate abruptly, and the user won't know what went wrong. It's important to handle exceptions in your code to make it more robust and user-friendly.\n",
        "\n",
        "---\n",
        "\n"
      ],
      "metadata": {
        "id": "Y30niSkX1NSH"
      }
    },
    {
      "cell_type": "code",
      "source": [
        "#Q3 which python statements are used to catch and handle exceptions. Explain with example."
      ],
      "metadata": {
        "id": "l3Pf6tmo18Ed"
      },
      "execution_count": 4,
      "outputs": []
    },
    {
      "cell_type": "markdown",
      "source": [
        "In Python, the try and except statements are used to catch and handle exceptions.\n",
        "\n",
        "The try statement is used to enclose the code that might raise an exception. The except statement is used to handle the exception that might be raised by the code in the try block.\n",
        "\n",
        "Here's an example:\n",
        "```\n",
        "try:\n",
        "    num1 = int(input(\"Enter a number: \"))\n",
        "\n",
        "    num2 = int(input(\"Enter another number: \"))\n",
        "\n",
        "    result = num1 / num2\n",
        "\n",
        "    print(result)\n",
        "\n",
        "except ZeroDivisionError:\n",
        "\n",
        "    print(\"You can't divide by zero!\")\n",
        "\n",
        "except ValueError:\n",
        "\n",
        "    print(\"You must enter a number!\")\n",
        "```"
      ],
      "metadata": {
        "id": "WEGN0a949ZJS"
      }
    },
    {
      "cell_type": "code",
      "source": [
        "#Q4. Explain with example,\n",
        "\"\"\"\n",
        "1)try and else\n",
        "2)catch\n",
        "3)finally\n",
        "\"\"\"\n"
      ],
      "metadata": {
        "colab": {
          "base_uri": "https://localhost:8080/",
          "height": 35
        },
        "id": "_rItD4uu1Mps",
        "outputId": "5c93ae3e-5a0b-4fff-933a-3f742b61aa08"
      },
      "execution_count": 6,
      "outputs": [
        {
          "output_type": "execute_result",
          "data": {
            "text/plain": [
              "'\\n1)try and\\n2)catch\\n3)finally\\n'"
            ],
            "application/vnd.google.colaboratory.intrinsic+json": {
              "type": "string"
            }
          },
          "metadata": {},
          "execution_count": 6
        }
      ]
    },
    {
      "cell_type": "markdown",
      "source": [
        "```\n",
        "try:\n",
        "    num1 = int(input(\"Enter a number: \"))\n",
        "    num2 = int(input(\"Enter another number: \"))\n",
        "    result = num1 / num2\n",
        "except ZeroDivisionError:\n",
        "    print(\"You can't divide by zero!\")\n",
        "else:\n",
        "    print(\"The result is:\", result)\n",
        "finally:\n",
        "    print(\"Thanks for using the program!\")\n",
        "```\n",
        "\n",
        "In this example, the try block takes two inputs from the user and divides the first number by the second. If the user enters a zero for the second number, a ZeroDivisionError is raised, and the except block that handles this exception is executed. If no exceptions are raised, the else block is executed, which prints the result of the division. The finally block is always executed, regardless of whether an exception was raised or not. In this case, it prints a message to thank the user for using the program.\n"
      ],
      "metadata": {
        "id": "qZLD_o5e-PcB"
      }
    },
    {
      "cell_type": "code",
      "source": [
        "#Q.5 what is custom exception, why we need this explain with example"
      ],
      "metadata": {
        "id": "EKGKbwhT962q"
      },
      "execution_count": 7,
      "outputs": []
    },
    {
      "cell_type": "markdown",
      "source": [
        "In Python, a custom exception is an exception that you define yourself. It allows you to create an exception that is specific to your program and can be raised when certain conditions are met.\n",
        "\n",
        "We need custom exceptions because sometimes the built-in exceptions don't provide enough information about what went wrong in our program. By creating a custom exception, we can provide more specific information about the error and handle it more appropriately.\n",
        "\n",
        "Here's an example:\n",
        "\n",
        "```\n",
        "class NegativeNumberError(Exception):\n",
        "    pass\n",
        "\n",
        "def square_root(num):\n",
        "    if num < 0:\n",
        "        raise NegativeNumberError(\"Cannot take the square root of a negative number.\")\n",
        "    else:\n",
        "        return num ** 0.5\n",
        "\n",
        "try:\n",
        "    result = square_root(-9)\n",
        "except NegativeNumberError as e:\n",
        "    print(e)\n",
        "else:\n",
        "    print(result)\n",
        "```"
      ],
      "metadata": {
        "id": "HZ5rkbb9-9P9"
      }
    },
    {
      "cell_type": "code",
      "source": [],
      "metadata": {
        "id": "hfOx3rWa-yIg"
      },
      "execution_count": null,
      "outputs": []
    }
  ],
  "metadata": {
    "colab": {
      "provenance": []
    },
    "kernelspec": {
      "display_name": "Python 3",
      "name": "python3"
    },
    "language_info": {
      "name": "python"
    }
  },
  "nbformat": 4,
  "nbformat_minor": 0
}