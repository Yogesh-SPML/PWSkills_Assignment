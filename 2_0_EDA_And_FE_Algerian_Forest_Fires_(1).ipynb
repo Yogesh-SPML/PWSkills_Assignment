{
  "cells": [
    {
      "cell_type": "markdown",
      "source": [
        "Q1. Which keyword is used to create a function? Create a function to return a list of odd numbers in the\n",
        "range of 1 to 25."
      ],
      "metadata": {
        "id": "aluPMIkuR0Zt"
      }
    },
    {
      "cell_type": "code",
      "source": [
        "import numpy as np\n",
        "\n",
        "def odd(range):\n",
        "  l = [i for i in range if i%2!=0]\n",
        "  return l\n",
        "\n",
        "xrange = np.arange(1,26)\n",
        "print(\"List:\",xrange)\n",
        "print(\"Odd list is:\",Odd(xrange))\n"
      ],
      "metadata": {
        "id": "c3PDMEj1PEjC",
        "outputId": "ae983344-bd78-4eac-c398-530d2c26749e",
        "colab": {
          "base_uri": "https://localhost:8080/"
        }
      },
      "execution_count": 28,
      "outputs": [
        {
          "output_type": "stream",
          "name": "stdout",
          "text": [
            "List: [ 1  2  3  4  5  6  7  8  9 10 11 12 13 14 15 16 17 18 19 20 21 22 23 24\n",
            " 25]\n",
            "Odd list is: [1, 3, 5, 7, 9, 11, 13, 15, 17, 19, 21, 23, 25]\n"
          ]
        }
      ]
    },
    {
      "cell_type": "markdown",
      "source": [
        "Q2. Why *args and **kwargs is used in some functions? Create a function each for *args and **kwargs\n",
        "to demonstrate their use."
      ],
      "metadata": {
        "id": "c8dIikfBWJo5"
      }
    },
    {
      "cell_type": "code",
      "source": [
        "##Here's an example function that uses *args:\n",
        "\n",
        "def add(*args):\n",
        "    sum = 0\n",
        "    for arg in args:\n",
        "        sum += arg\n",
        "    return sum\n",
        "\n",
        "add(1, 2, 3, 4, 5)\n",
        "\n",
        "##Here's an example function that uses **kwargs:\n",
        "\n",
        "def print_kwargs(**kwargs):\n",
        "    for key, value in kwargs.items():\n",
        "        print(f\"{key}: {value}\")\n",
        "\n",
        "print_kwargs(name=\"John\", age=25, city=\"New York\")"
      ],
      "metadata": {
        "id": "q7AuXkqoVeN7",
        "outputId": "b47fb6f1-4263-42ad-dd88-d049b4062401",
        "colab": {
          "base_uri": "https://localhost:8080/"
        }
      },
      "execution_count": 29,
      "outputs": [
        {
          "output_type": "stream",
          "name": "stdout",
          "text": [
            "name: John\n",
            "age: 25\n",
            "city: New York\n"
          ]
        }
      ]
    },
    {
      "cell_type": "markdown",
      "source": [
        "Q3. What is an iterator in python? Name the method used to initialise the iterator object and the method\n",
        "used for iteration. Use these methods to print the first five elements of the given list [2, 4, 6, 8, 10, 12, 14,\n",
        "16, 18, 20]."
      ],
      "metadata": {
        "id": "G884XddrWjjE"
      }
    },
    {
      "cell_type": "markdown",
      "source": [
        "An iterator in Python is an object that can be iterated (looped) upon. It is used to implement a sequence of values that can be accessed one at a time. In Python, an iterator is an object that implements the iterator protocol, which consists of the methods __iter__() and __next__().\n",
        "\n",
        "The __iter__() method initializes the iterator object, while the __next__() method retrieves the next value from the iterator.\n"
      ],
      "metadata": {
        "id": "tKk2kcSyXGWB"
      }
    },
    {
      "cell_type": "markdown",
      "source": [
        "Q4. What is a generator function in python? Why yield keyword is used? Give an example of a generator\n",
        "function."
      ],
      "metadata": {
        "id": "YpZMdQx4XoQo"
      }
    },
    {
      "cell_type": "markdown",
      "source": [
        "A generator function is a special type of function in Python that uses the `yield` keyword to return an iterator object. Unlike regular functions that return a value and then terminate, generator functions can be paused and resumed on demand. This makes them useful for generating large sequences of values that would be impractical to store in memory all at once."
      ],
      "metadata": {
        "id": "CDj4QqRHZYLL"
      }
    },
    {
      "cell_type": "code",
      "source": [
        "def count_up_to(n):\n",
        "    i = 1\n",
        "    while i <= n:\n",
        "        yield i\n",
        "        i += 1\n",
        "count_up_to(5)"
      ],
      "metadata": {
        "id": "HJAjmhhQXKvc",
        "outputId": "6404f201-d6eb-4fbe-96b9-5a63ec8b629d",
        "colab": {
          "base_uri": "https://localhost:8080/"
        }
      },
      "execution_count": 30,
      "outputs": [
        {
          "output_type": "execute_result",
          "data": {
            "text/plain": [
              "<generator object count_up_to at 0x7d3464c76ff0>"
            ]
          },
          "metadata": {},
          "execution_count": 30
        }
      ]
    },
    {
      "cell_type": "markdown",
      "source": [
        "Q5. Create a generator function for prime numbers less than 1000. Use the next() method to print the\n",
        "first 20 prime numbers."
      ],
      "metadata": {
        "id": "ogJZuM0wZyUD"
      }
    },
    {
      "cell_type": "code",
      "source": [
        "def primes():\n",
        "    yield 2\n",
        "    primes_list = [2]\n",
        "    n = 3\n",
        "    while n < 1000:\n",
        "        is_prime = True\n",
        "        for p in primes_list:\n",
        "            if n % p == 0:\n",
        "                is_prime = False\n",
        "                break\n",
        "        if is_prime:\n",
        "            primes_list.append(n)\n",
        "            yield n\n",
        "        n += 2\n",
        "\n",
        "primes_gen = primes()\n",
        "for i in range(20):\n",
        "    print(next(primes_gen))"
      ],
      "metadata": {
        "id": "YRqdMqFpZiWq",
        "outputId": "d9579ad6-3e69-4d43-9569-ba945bc40838",
        "colab": {
          "base_uri": "https://localhost:8080/"
        }
      },
      "execution_count": 1,
      "outputs": [
        {
          "output_type": "stream",
          "name": "stdout",
          "text": [
            "2\n",
            "3\n",
            "5\n",
            "7\n",
            "11\n",
            "13\n",
            "17\n",
            "19\n",
            "23\n",
            "29\n",
            "31\n",
            "37\n",
            "41\n",
            "43\n",
            "47\n",
            "53\n",
            "59\n",
            "61\n",
            "67\n",
            "71\n"
          ]
        }
      ]
    },
    {
      "cell_type": "markdown",
      "source": [
        "Q6. Write a python program to print the first 10 Fibonacci numbers using a while loop."
      ],
      "metadata": {
        "id": "0Kgt_kjtbFNO"
      }
    },
    {
      "cell_type": "code",
      "source": [
        "def fib(x):\n",
        "  a = 0\n",
        "  b = 1\n",
        "  i = 0\n",
        "  while (i<x):\n",
        "    print(a)\n",
        "    c = a+b\n",
        "    a = b\n",
        "    b = c\n",
        "    i = i+1\n",
        "\n",
        "\n",
        "fib(10)"
      ],
      "metadata": {
        "id": "W4infVv_aRTV",
        "outputId": "60e15735-d23d-442c-c908-cdfd4aad4d4c",
        "colab": {
          "base_uri": "https://localhost:8080/"
        }
      },
      "execution_count": 10,
      "outputs": [
        {
          "output_type": "stream",
          "name": "stdout",
          "text": [
            "0\n",
            "1\n",
            "1\n",
            "2\n",
            "3\n",
            "5\n",
            "8\n",
            "13\n",
            "21\n",
            "34\n"
          ]
        }
      ]
    },
    {
      "cell_type": "markdown",
      "source": [
        "Q8. Write a python program to check whether a given number is Palindrome or not using a while loop.\n"
      ],
      "metadata": {
        "id": "EHtKEiujdE_H"
      }
    },
    {
      "cell_type": "code",
      "source": [
        "num = int(input(\"Enter a number: \"))\n",
        "temp = num\n",
        "rev = 0\n",
        "\n",
        "while temp > 0:\n",
        "    digit = temp % 10\n",
        "    rev = rev * 10 + digit\n",
        "    temp //= 10\n",
        "\n",
        "if num == rev:\n",
        "    print(f\"{num} is a palindrome number\")\n",
        "else:\n",
        "    print(f\"{num} is not a palindrome number\")"
      ],
      "metadata": {
        "id": "7m2dWOoebnVP",
        "outputId": "7a8e7e26-2181-49c2-ab6b-4c7733f8fbbd",
        "colab": {
          "base_uri": "https://localhost:8080/"
        }
      },
      "execution_count": 11,
      "outputs": [
        {
          "output_type": "stream",
          "name": "stdout",
          "text": [
            "Enter a number: 67\n",
            "67 is not a palindrome number\n"
          ]
        }
      ]
    },
    {
      "cell_type": "code",
      "source": [],
      "metadata": {
        "id": "w3T1aKsodJ5D"
      },
      "execution_count": null,
      "outputs": []
    }
  ],
  "metadata": {
    "kernelspec": {
      "display_name": "Python 3 (ipykernel)",
      "language": "python",
      "name": "python3"
    },
    "language_info": {
      "codemirror_mode": {
        "name": "ipython",
        "version": 3
      },
      "file_extension": ".py",
      "mimetype": "text/x-python",
      "name": "python",
      "nbconvert_exporter": "python",
      "pygments_lexer": "ipython3",
      "version": "3.10.8"
    },
    "colab": {
      "provenance": []
    }
  },
  "nbformat": 4,
  "nbformat_minor": 0
}