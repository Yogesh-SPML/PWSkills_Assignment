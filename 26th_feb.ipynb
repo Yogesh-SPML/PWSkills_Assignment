{
  "nbformat": 4,
  "nbformat_minor": 0,
  "metadata": {
    "colab": {
      "provenance": []
    },
    "kernelspec": {
      "name": "python3",
      "display_name": "Python 3"
    },
    "language_info": {
      "name": "python"
    }
  },
  "cells": [
    {
      "cell_type": "markdown",
      "source": [
        "```\n",
        "Consider the below code to answer further questions:\n",
        "import numpy as np\n",
        "list_ = [ ‘1’ , ’2’ , ‘3’ , ‘4’ , ‘5’ ]\n",
        "array_list = np.array(object = list_)\n",
        "```"
      ],
      "metadata": {
        "id": "TsZSh9wzCfLD"
      }
    },
    {
      "cell_type": "code",
      "source": [
        "import numpy as np\n",
        "list_ = [ '1' , '2' , '3' , '4', '5' ]\n",
        "array_list = np.array(object = list_)"
      ],
      "metadata": {
        "id": "DP0OtcCfCgMR"
      },
      "execution_count": 55,
      "outputs": []
    },
    {
      "cell_type": "code",
      "source": [
        "\"\"\"\n",
        "Q1. Is there any difference in the data type of variables list_ and array_list? If there is then write a code\n",
        "to print the data types of both the variables.\n",
        "\"\"\""
      ],
      "metadata": {
        "colab": {
          "base_uri": "https://localhost:8080/",
          "height": 52
        },
        "id": "aBxvVCc7CiHp",
        "outputId": "d70d6c7c-e62b-49ff-f5a0-848453cc486c"
      },
      "execution_count": 57,
      "outputs": [
        {
          "output_type": "execute_result",
          "data": {
            "text/plain": [
              "'\\nQ1. Is there any difference in the data type of variables list_ and array_list? If there is then write a code\\nto print the data types of both the variables.\\n'"
            ],
            "application/vnd.google.colaboratory.intrinsic+json": {
              "type": "string"
            }
          },
          "metadata": {},
          "execution_count": 57
        }
      ]
    },
    {
      "cell_type": "code",
      "source": [
        "type(list_)"
      ],
      "metadata": {
        "colab": {
          "base_uri": "https://localhost:8080/"
        },
        "id": "vIK4DjLiCtDw",
        "outputId": "0e120e96-9c41-4a66-d58c-af2f04fb4fca"
      },
      "execution_count": 58,
      "outputs": [
        {
          "output_type": "execute_result",
          "data": {
            "text/plain": [
              "list"
            ]
          },
          "metadata": {},
          "execution_count": 58
        }
      ]
    },
    {
      "cell_type": "code",
      "source": [
        "type(array_list)"
      ],
      "metadata": {
        "colab": {
          "base_uri": "https://localhost:8080/"
        },
        "id": "IOYemu1eC2aR",
        "outputId": "70e3b092-6aae-46a2-a878-1818b2ac439f"
      },
      "execution_count": 59,
      "outputs": [
        {
          "output_type": "execute_result",
          "data": {
            "text/plain": [
              "numpy.ndarray"
            ]
          },
          "metadata": {},
          "execution_count": 59
        }
      ]
    },
    {
      "cell_type": "markdown",
      "source": [
        "```\n",
        "Q2. Write a code to print the data type of each and every element of both the variables list_ and\n",
        "arra_list.\n",
        "```"
      ],
      "metadata": {
        "id": "MEv_gaCQC9AV"
      }
    },
    {
      "cell_type": "code",
      "source": [
        "# data type of every element of variables list_ =>\n",
        "\n",
        "for i in list_:\n",
        "  print(\"The data type of\",i, \"is\",type(i))"
      ],
      "metadata": {
        "colab": {
          "base_uri": "https://localhost:8080/"
        },
        "id": "7MVdvmMMC4XB",
        "outputId": "58b10354-c5fc-423a-a62b-fc2f4f9c6923"
      },
      "execution_count": 60,
      "outputs": [
        {
          "output_type": "stream",
          "name": "stdout",
          "text": [
            "The data type of 1 is <class 'str'>\n",
            "The data type of 2 is <class 'str'>\n",
            "The data type of 3 is <class 'str'>\n",
            "The data type of 4 is <class 'str'>\n",
            "The data type of 5 is <class 'str'>\n"
          ]
        }
      ]
    },
    {
      "cell_type": "code",
      "source": [
        "# data type of every element of array list_ =>\n",
        "\n",
        "for i in array_list:\n",
        "  print(\"The data type of\",i, \"is\",type(i))"
      ],
      "metadata": {
        "colab": {
          "base_uri": "https://localhost:8080/"
        },
        "id": "MlWb20DzDVYZ",
        "outputId": "891ff779-ab31-4dd5-d68c-9ea418d58e14"
      },
      "execution_count": 61,
      "outputs": [
        {
          "output_type": "stream",
          "name": "stdout",
          "text": [
            "The data type of 1 is <class 'numpy.str_'>\n",
            "The data type of 2 is <class 'numpy.str_'>\n",
            "The data type of 3 is <class 'numpy.str_'>\n",
            "The data type of 4 is <class 'numpy.str_'>\n",
            "The data type of 5 is <class 'numpy.str_'>\n"
          ]
        }
      ]
    },
    {
      "cell_type": "markdown",
      "source": [
        "```\n",
        "Q3. Considering the following changes in the variable, array_list:\n",
        "array_list = np.array(object = list_, dtype = int)\n",
        "Will there be any difference in the data type of the elements present in both the variables, list_ and\n",
        "arra_list? If so then print the data types of each and every element present in both the variables, list_\n",
        "and arra_list.\n",
        "```"
      ],
      "metadata": {
        "id": "YzGHORcqDiCO"
      }
    },
    {
      "cell_type": "code",
      "source": [
        "array_list = np.array(object = list_, dtype = int)"
      ],
      "metadata": {
        "id": "LLd0cHFlDdTA"
      },
      "execution_count": 62,
      "outputs": []
    },
    {
      "cell_type": "code",
      "source": [
        "# data type of every element of array list_ =>\n",
        "\n",
        "for i in array_list:\n",
        "  print(\"The data type of\",i, \"is\",type(i))"
      ],
      "metadata": {
        "colab": {
          "base_uri": "https://localhost:8080/"
        },
        "id": "YPQqJzuUDp9g",
        "outputId": "410bd3de-5208-4c0b-f70c-396a3dfecea8"
      },
      "execution_count": 63,
      "outputs": [
        {
          "output_type": "stream",
          "name": "stdout",
          "text": [
            "The data type of 1 is <class 'numpy.int64'>\n",
            "The data type of 2 is <class 'numpy.int64'>\n",
            "The data type of 3 is <class 'numpy.int64'>\n",
            "The data type of 4 is <class 'numpy.int64'>\n",
            "The data type of 5 is <class 'numpy.int64'>\n"
          ]
        }
      ]
    },
    {
      "cell_type": "code",
      "source": [
        "# data type of every element of list_ =>\n",
        "\n",
        "for i in list_:\n",
        "  print(\"The data type of\",i, \"is\",type(i))"
      ],
      "metadata": {
        "colab": {
          "base_uri": "https://localhost:8080/"
        },
        "id": "yVIiGZAKDr7Q",
        "outputId": "78771580-7ecc-42fe-af80-248eb494402c"
      },
      "execution_count": 64,
      "outputs": [
        {
          "output_type": "stream",
          "name": "stdout",
          "text": [
            "The data type of 1 is <class 'str'>\n",
            "The data type of 2 is <class 'str'>\n",
            "The data type of 3 is <class 'str'>\n",
            "The data type of 4 is <class 'str'>\n",
            "The data type of 5 is <class 'str'>\n"
          ]
        }
      ]
    },
    {
      "cell_type": "markdown",
      "source": [
        "```\n",
        "Consider the below code to answer further questions:\n",
        "import numpy as np\n",
        "num_list = [ [ 1 , 2 , 3 ] , [ 4 , 5 , 6 ] ]\n",
        "num_array = np.array(object = num_list)\n",
        "Q4. Write a code to find the following characteristics of variable, num_array:\n",
        "(i) shape\n",
        "(ii) size\n",
        "```"
      ],
      "metadata": {
        "id": "GBFjgzb1D39M"
      }
    },
    {
      "cell_type": "code",
      "source": [
        "num_list = [ [ 1 , 2 , 3 ] , [ 4 , 5 , 6 ] ]\n",
        "num_array = np.array(object = num_list)"
      ],
      "metadata": {
        "id": "jQ0I4a9_Dx7I"
      },
      "execution_count": 65,
      "outputs": []
    },
    {
      "cell_type": "code",
      "source": [
        "np.shape(num_list)"
      ],
      "metadata": {
        "colab": {
          "base_uri": "https://localhost:8080/"
        },
        "id": "DmqyyHxWEL2o",
        "outputId": "3ef40ccf-8295-4914-e22d-d811d237288f"
      },
      "execution_count": 66,
      "outputs": [
        {
          "output_type": "execute_result",
          "data": {
            "text/plain": [
              "(2, 3)"
            ]
          },
          "metadata": {},
          "execution_count": 66
        }
      ]
    },
    {
      "cell_type": "code",
      "source": [
        "np.size(num_list)"
      ],
      "metadata": {
        "colab": {
          "base_uri": "https://localhost:8080/"
        },
        "id": "RYee5YhkEPMg",
        "outputId": "72ec64c1-6ba8-45a1-c7a8-3c1cb6715a5d"
      },
      "execution_count": 67,
      "outputs": [
        {
          "output_type": "execute_result",
          "data": {
            "text/plain": [
              "6"
            ]
          },
          "metadata": {},
          "execution_count": 67
        }
      ]
    },
    {
      "cell_type": "markdown",
      "source": [
        "```\n",
        "Q5. Write a code to create numpy array of 3*3 matrix containing zeros only, using a numpy array\n",
        "creation function.\n",
        "[Hint: The size of the array will be 9 and the shape will be (3,3).]\n",
        "```"
      ],
      "metadata": {
        "id": "Ke_Z3cDiETxR"
      }
    },
    {
      "cell_type": "code",
      "source": [
        "np.zeros([3,3])"
      ],
      "metadata": {
        "colab": {
          "base_uri": "https://localhost:8080/"
        },
        "id": "ovHE-aQZERGY",
        "outputId": "366c2d6b-5101-463d-bd79-5158f2e0f347"
      },
      "execution_count": 69,
      "outputs": [
        {
          "output_type": "execute_result",
          "data": {
            "text/plain": [
              "array([[0., 0., 0.],\n",
              "       [0., 0., 0.],\n",
              "       [0., 0., 0.]])"
            ]
          },
          "metadata": {},
          "execution_count": 69
        }
      ]
    },
    {
      "cell_type": "markdown",
      "source": [
        "```\n",
        "Q6. Create an identity matrix of shape (5,5) using numpy functions?\n",
        "[Hint: An identity matrix is a matrix containing 1 diagonally and other elements will be 0.]\n",
        "```"
      ],
      "metadata": {
        "id": "K2xxuMkwEdxZ"
      }
    },
    {
      "cell_type": "code",
      "source": [
        "np.identity(5)"
      ],
      "metadata": {
        "colab": {
          "base_uri": "https://localhost:8080/"
        },
        "id": "K5gJs2tcEYiQ",
        "outputId": "6d7210ba-470a-40b5-f607-649490909937"
      },
      "execution_count": 72,
      "outputs": [
        {
          "output_type": "execute_result",
          "data": {
            "text/plain": [
              "array([[1., 0., 0., 0., 0.],\n",
              "       [0., 1., 0., 0., 0.],\n",
              "       [0., 0., 1., 0., 0.],\n",
              "       [0., 0., 0., 1., 0.],\n",
              "       [0., 0., 0., 0., 1.]])"
            ]
          },
          "metadata": {},
          "execution_count": 72
        }
      ]
    },
    {
      "cell_type": "code",
      "source": [],
      "metadata": {
        "id": "N3Y6svvmEkMY"
      },
      "execution_count": null,
      "outputs": []
    }
  ]
}