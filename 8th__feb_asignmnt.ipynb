{
  "nbformat": 4,
  "nbformat_minor": 0,
  "metadata": {
    "colab": {
      "provenance": []
    },
    "kernelspec": {
      "name": "python3",
      "display_name": "Python 3"
    },
    "language_info": {
      "name": "python"
    }
  },
  "cells": [
    {
      "cell_type": "code",
      "source": [
        "#  Q1. What is Abstraction in OOps? Explain with an example."
      ],
      "metadata": {
        "id": "B-IuXnFyiLX4"
      },
      "execution_count": 1,
      "outputs": []
    },
    {
      "cell_type": "markdown",
      "source": [
        "ans=>\n",
        "Abstraction in OOPs is a way to hide implementation details and only show the necessary information to the user.\n",
        "\n",
        "we can achieve the abstraction using the function, classes ets."
      ],
      "metadata": {
        "id": "A0VvnRHuiO6B"
      }
    },
    {
      "cell_type": "code",
      "source": [
        "# Differentiate between Abstraction and Encapsulation. "
      ],
      "metadata": {
        "id": "qAGLzNoOiOJQ"
      },
      "execution_count": 2,
      "outputs": []
    },
    {
      "cell_type": "markdown",
      "source": [
        "ans=> Abstraction is a way to show only the necessary information to the user and hide implementation details, while encapsulation is a way to bundle data and methods together and restrict access to them from outside the class.\n",
        "\n",
        "we can achieve encapsulation using private and public methods."
      ],
      "metadata": {
        "id": "9RQw-ZC5iqD8"
      }
    },
    {
      "cell_type": "code",
      "source": [
        "# Q3. What is abc module in python? Why is it used?"
      ],
      "metadata": {
        "id": "znxRAyeHipu_"
      },
      "execution_count": 3,
      "outputs": []
    },
    {
      "cell_type": "markdown",
      "source": [
        "The abc module in Python provides the infrastructure for defining abstract base classes (ABCs). An abstract base class is a class that cannot be instantiated and is meant to be subclassed by other classes."
      ],
      "metadata": {
        "id": "ZUa79mgti_xh"
      }
    },
    {
      "cell_type": "code",
      "source": [
        "# Q4. How can we achieve data abstraction?"
      ],
      "metadata": {
        "id": "rZCPt6eTi_MO"
      },
      "execution_count": 4,
      "outputs": []
    },
    {
      "cell_type": "markdown",
      "source": [
        "we can achieve data abstraction in Python by defining abstract classes or interfaces that define the necessary methods and properties that the user needs to interact with the data. The implementation details are hidden from the user and only the necessary information is shown."
      ],
      "metadata": {
        "id": "mj_CAeBOjRY7"
      }
    },
    {
      "cell_type": "code",
      "source": [
        "# Q5. Can we create an instance of an abstract class? Explain your answer."
      ],
      "metadata": {
        "id": "cMlS8Ua9jMhs"
      },
      "execution_count": 5,
      "outputs": []
    },
    {
      "cell_type": "markdown",
      "source": [
        "No, we cannot create an instance of an abstract class in Python. An abstract class is meant to be subclassed by other classes and provides a blueprint for the methods and properties that the subclass must implement."
      ],
      "metadata": {
        "id": "eCfh-9HAjcTr"
      }
    },
    {
      "cell_type": "code",
      "source": [],
      "metadata": {
        "id": "ZAB3xp27jb6P"
      },
      "execution_count": null,
      "outputs": []
    }
  ]
}