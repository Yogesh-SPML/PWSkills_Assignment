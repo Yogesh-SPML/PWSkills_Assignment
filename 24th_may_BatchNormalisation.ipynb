{
  "nbformat": 4,
  "nbformat_minor": 0,
  "metadata": {
    "colab": {
      "provenance": []
    },
    "kernelspec": {
      "name": "python3",
      "display_name": "Python 3"
    },
    "language_info": {
      "name": "python"
    },
    "accelerator": "GPU"
  },
  "cells": [
    {
      "cell_type": "markdown",
      "source": [
        "1) Explain the concept of batch normalization in the context of Artificial Neural Network"
      ],
      "metadata": {
        "id": "srtSIh53m3H7"
      }
    },
    {
      "cell_type": "markdown",
      "source": [
        "Batch normalization is a technique used in Artificial Neural Networks to normalize the inputs of each layer. It works by subtracting the mean and dividing by the variance of the inputs for each batch of training data. This can help to reduce the internal covariate shift, which can improve the performance of the network and speed up the training process. Additionally, batch normalization can act as a form of regularization, which can help to prevent overfitting."
      ],
      "metadata": {
        "id": "XwwN_4hVnAKi"
      }
    },
    {
      "cell_type": "markdown",
      "source": [
        "2) Describe the benefits of using batch normalization during training"
      ],
      "metadata": {
        "id": "weyG9UsKnK_x"
      }
    },
    {
      "cell_type": "markdown",
      "source": [
        "Batch normalization has several benefits during training. First, it can help to reduce the internal covariate shift, which can improve the performance of the network and speed up the training process. Second, it can act as a form of regularization, which can help to prevent overfitting. Finally, it can help to stabilize the gradients during backpropagation, which can make it easier to train deep neural networks."
      ],
      "metadata": {
        "id": "VinOX4EpnSPY"
      }
    },
    {
      "cell_type": "markdown",
      "source": [
        "3) Discuss the working principle of batch normalization, including the normalization step and the learnable\n",
        "parameters."
      ],
      "metadata": {
        "id": "E_L4mMlbnYme"
      }
    },
    {
      "cell_type": "markdown",
      "source": [
        "During training, the mean and variance of the inputs are calculated for each batch of training data. These values are then used to normalize the inputs by subtracting the mean and dividing by the variance. This can help to reduce the internal covariate shift, which can improve the performance of the network and speed up the training process. Additionally, batch normalization introduces learnable parameters, which can be used to scale and shift the normalized inputs. These parameters can help to restore the representational power of the network, which can improve its performance."
      ],
      "metadata": {
        "id": "ZSiHTwR9niTM"
      }
    },
    {
      "cell_type": "markdown",
      "source": [
        "# **Q2. Implementation**"
      ],
      "metadata": {
        "id": "ZMPbO1R3nzXX"
      }
    },
    {
      "cell_type": "code",
      "source": [
        "import tensorflow as tf\n",
        "import matplotlib.pyplot as plt\n",
        "import numpy as np\n",
        "import pandas as pd\n",
        "import seaborn as sns\n",
        "import os"
      ],
      "metadata": {
        "id": "Xj2VS5wKcwWw"
      },
      "execution_count": 56,
      "outputs": []
    },
    {
      "cell_type": "code",
      "source": [
        "check_list = ['GPU','CPU']\n",
        "\n",
        "for device in check_list:\n",
        "  out = tf.config.list_physical_devices(device)\n",
        "  if len(out) > 0:\n",
        "    print(f\"{device} is available!\")\n",
        "    print(f\"Details >> {out}\")\n",
        "  else:\n",
        "    print(f\"{device} isn't available!\")"
      ],
      "metadata": {
        "colab": {
          "base_uri": "https://localhost:8080/"
        },
        "id": "-WFkiWpNosMk",
        "outputId": "62a5ebbf-4834-4148-ca5a-383d8f334697"
      },
      "execution_count": 58,
      "outputs": [
        {
          "output_type": "stream",
          "name": "stdout",
          "text": [
            "GPU is available!\n",
            "Details >> [PhysicalDevice(name='/physical_device:GPU:0', device_type='GPU')]\n",
            "CPU is available!\n",
            "Details >> [PhysicalDevice(name='/physical_device:CPU:0', device_type='CPU')]\n"
          ]
        }
      ]
    },
    {
      "cell_type": "code",
      "source": [
        "# Loading dataset\n",
        "\n",
        "mnist = tf.keras.datasets.mnist\n",
        "(X_train_full, y_train_full), (X_test, y_test) = mnist.load_data()"
      ],
      "metadata": {
        "colab": {
          "base_uri": "https://localhost:8080/"
        },
        "id": "2KQeEwATo5-E",
        "outputId": "8a0ed054-337c-4a91-bf96-0c99eb2b1574"
      },
      "execution_count": 59,
      "outputs": [
        {
          "output_type": "stream",
          "name": "stdout",
          "text": [
            "Downloading data from https://storage.googleapis.com/tensorflow/tf-keras-datasets/mnist.npz\n",
            "11490434/11490434 [==============================] - 0s 0us/step\n"
          ]
        }
      ]
    },
    {
      "cell_type": "code",
      "source": [
        "X_train_full.shape"
      ],
      "metadata": {
        "colab": {
          "base_uri": "https://localhost:8080/"
        },
        "id": "OnMAGHbbpJdM",
        "outputId": "703cacc9-c17d-40fd-b1b1-098f793ebd26"
      },
      "execution_count": 60,
      "outputs": [
        {
          "output_type": "execute_result",
          "data": {
            "text/plain": [
              "(60000, 28, 28)"
            ]
          },
          "metadata": {},
          "execution_count": 60
        }
      ]
    },
    {
      "cell_type": "code",
      "source": [
        "# create a validation data set from the full training data\n",
        "# Scale the data between 0 to 1 by dividing it by 255. as its an unsigned data between 0-255 range\n",
        "X_valid, X_train = X_train_full[:5000] / 255., X_train_full[5000:] / 255.\n",
        "y_valid, y_train = y_train_full[:5000], y_train_full[5000:]\n",
        "\n",
        "# scale the test set as well\n",
        "X_test = X_test / 255."
      ],
      "metadata": {
        "id": "U4ZMKenppXV0"
      },
      "execution_count": 61,
      "outputs": []
    },
    {
      "cell_type": "markdown",
      "source": [
        "# Creating layers of ANN without batch normalisation|"
      ],
      "metadata": {
        "id": "Y8LyuR1DrFSi"
      }
    },
    {
      "cell_type": "code",
      "source": [
        "# Creating layers of ANN without batch normalisation|\n",
        "LAYERS = [tf.keras.layers.Flatten(input_shape=[28, 28], name=\"inputLayer\"),\n",
        "          tf.keras.layers.Dense(300, activation=\"relu\", name=\"hiddenLayer1\"),\n",
        "          tf.keras.layers.Dense(100, activation=\"relu\", name=\"hiddenLayer2\"),\n",
        "          tf.keras.layers.Dense(10, activation=\"softmax\", name=\"outputLayer\")]\n",
        "\n",
        "model_clf = tf.keras.models.Sequential(LAYERS)"
      ],
      "metadata": {
        "id": "c16_foTBpinE"
      },
      "execution_count": 62,
      "outputs": []
    },
    {
      "cell_type": "code",
      "source": [
        "model_clf.summary()"
      ],
      "metadata": {
        "colab": {
          "base_uri": "https://localhost:8080/"
        },
        "id": "uTbwF1RcpxBu",
        "outputId": "83d1a532-57c3-41ac-ef58-c90499fe85d0"
      },
      "execution_count": 63,
      "outputs": [
        {
          "output_type": "stream",
          "name": "stdout",
          "text": [
            "Model: \"sequential\"\n",
            "_________________________________________________________________\n",
            " Layer (type)                Output Shape              Param #   \n",
            "=================================================================\n",
            " inputLayer (Flatten)        (None, 784)               0         \n",
            "                                                                 \n",
            " hiddenLayer1 (Dense)        (None, 300)               235500    \n",
            "                                                                 \n",
            " hiddenLayer2 (Dense)        (None, 100)               30100     \n",
            "                                                                 \n",
            " outputLayer (Dense)         (None, 10)                1010      \n",
            "                                                                 \n",
            "=================================================================\n",
            "Total params: 266,610\n",
            "Trainable params: 266,610\n",
            "Non-trainable params: 0\n",
            "_________________________________________________________________\n"
          ]
        }
      ]
    },
    {
      "cell_type": "code",
      "source": [
        "LOSS_FUNCTION = \"sparse_categorical_crossentropy\" # use => tf.losses.sparse_categorical_crossentropy\n",
        "OPTIMIZER = \"SGD\" # or use with custom learning rate=> tf.keras.optimizers.SGD(0.02)\n",
        "METRICS = [\"accuracy\"]\n",
        "\n",
        "model_clf.compile(loss=LOSS_FUNCTION,\n",
        "              optimizer=OPTIMIZER,\n",
        "              metrics=METRICS)"
      ],
      "metadata": {
        "id": "PxcyGmHgpzL7"
      },
      "execution_count": 64,
      "outputs": []
    },
    {
      "cell_type": "code",
      "source": [
        "# training\n",
        "\n",
        "EPOCHS = 30\n",
        "VALIDATION_SET = (X_valid, y_valid)\n",
        "\n",
        "history = model_clf.fit(X_train, y_train, epochs=EPOCHS,\n",
        "                    validation_data=VALIDATION_SET, batch_size=32)"
      ],
      "metadata": {
        "colab": {
          "base_uri": "https://localhost:8080/"
        },
        "id": "dVxKlb2Rp49k",
        "outputId": "85af6a94-93ee-4a18-8b5e-d2cc8750b30f"
      },
      "execution_count": 65,
      "outputs": [
        {
          "output_type": "stream",
          "name": "stdout",
          "text": [
            "Epoch 1/30\n",
            "1719/1719 [==============================] - 13s 4ms/step - loss: 0.5955 - accuracy: 0.8481 - val_loss: 0.2983 - val_accuracy: 0.9172\n",
            "Epoch 2/30\n",
            "1719/1719 [==============================] - 7s 4ms/step - loss: 0.2835 - accuracy: 0.9196 - val_loss: 0.2331 - val_accuracy: 0.9348\n",
            "Epoch 3/30\n",
            "1719/1719 [==============================] - 6s 4ms/step - loss: 0.2306 - accuracy: 0.9341 - val_loss: 0.2022 - val_accuracy: 0.9454\n",
            "Epoch 4/30\n",
            "1719/1719 [==============================] - 6s 4ms/step - loss: 0.1968 - accuracy: 0.9441 - val_loss: 0.1752 - val_accuracy: 0.9532\n",
            "Epoch 5/30\n",
            "1719/1719 [==============================] - 7s 4ms/step - loss: 0.1724 - accuracy: 0.9515 - val_loss: 0.1573 - val_accuracy: 0.9596\n",
            "Epoch 6/30\n",
            "1719/1719 [==============================] - 6s 3ms/step - loss: 0.1526 - accuracy: 0.9563 - val_loss: 0.1420 - val_accuracy: 0.9614\n",
            "Epoch 7/30\n",
            "1719/1719 [==============================] - 7s 4ms/step - loss: 0.1369 - accuracy: 0.9617 - val_loss: 0.1312 - val_accuracy: 0.9630\n",
            "Epoch 8/30\n",
            "1719/1719 [==============================] - 6s 3ms/step - loss: 0.1241 - accuracy: 0.9647 - val_loss: 0.1217 - val_accuracy: 0.9652\n",
            "Epoch 9/30\n",
            "1719/1719 [==============================] - 8s 4ms/step - loss: 0.1132 - accuracy: 0.9681 - val_loss: 0.1154 - val_accuracy: 0.9666\n",
            "Epoch 10/30\n",
            "1719/1719 [==============================] - 6s 3ms/step - loss: 0.1036 - accuracy: 0.9711 - val_loss: 0.1127 - val_accuracy: 0.9688\n",
            "Epoch 11/30\n",
            "1719/1719 [==============================] - 10s 6ms/step - loss: 0.0951 - accuracy: 0.9735 - val_loss: 0.1016 - val_accuracy: 0.9714\n",
            "Epoch 12/30\n",
            "1719/1719 [==============================] - 6s 3ms/step - loss: 0.0880 - accuracy: 0.9751 - val_loss: 0.0996 - val_accuracy: 0.9706\n",
            "Epoch 13/30\n",
            "1719/1719 [==============================] - 7s 4ms/step - loss: 0.0815 - accuracy: 0.9773 - val_loss: 0.0933 - val_accuracy: 0.9730\n",
            "Epoch 14/30\n",
            "1719/1719 [==============================] - 6s 3ms/step - loss: 0.0754 - accuracy: 0.9791 - val_loss: 0.0895 - val_accuracy: 0.9742\n",
            "Epoch 15/30\n",
            "1719/1719 [==============================] - 7s 4ms/step - loss: 0.0707 - accuracy: 0.9806 - val_loss: 0.0847 - val_accuracy: 0.9762\n",
            "Epoch 16/30\n",
            "1719/1719 [==============================] - 6s 4ms/step - loss: 0.0661 - accuracy: 0.9820 - val_loss: 0.0846 - val_accuracy: 0.9762\n",
            "Epoch 17/30\n",
            "1719/1719 [==============================] - 7s 4ms/step - loss: 0.0615 - accuracy: 0.9831 - val_loss: 0.0808 - val_accuracy: 0.9754\n",
            "Epoch 18/30\n",
            "1719/1719 [==============================] - 6s 3ms/step - loss: 0.0575 - accuracy: 0.9847 - val_loss: 0.0812 - val_accuracy: 0.9758\n",
            "Epoch 19/30\n",
            "1719/1719 [==============================] - 7s 4ms/step - loss: 0.0541 - accuracy: 0.9854 - val_loss: 0.0758 - val_accuracy: 0.9776\n",
            "Epoch 20/30\n",
            "1719/1719 [==============================] - 6s 4ms/step - loss: 0.0505 - accuracy: 0.9866 - val_loss: 0.0783 - val_accuracy: 0.9776\n",
            "Epoch 21/30\n",
            "1719/1719 [==============================] - 6s 4ms/step - loss: 0.0474 - accuracy: 0.9875 - val_loss: 0.0754 - val_accuracy: 0.9770\n",
            "Epoch 22/30\n",
            "1719/1719 [==============================] - 7s 4ms/step - loss: 0.0445 - accuracy: 0.9883 - val_loss: 0.0731 - val_accuracy: 0.9776\n",
            "Epoch 23/30\n",
            "1719/1719 [==============================] - 6s 3ms/step - loss: 0.0419 - accuracy: 0.9893 - val_loss: 0.0725 - val_accuracy: 0.9786\n",
            "Epoch 24/30\n",
            "1719/1719 [==============================] - 7s 4ms/step - loss: 0.0394 - accuracy: 0.9902 - val_loss: 0.0706 - val_accuracy: 0.9798\n",
            "Epoch 25/30\n",
            "1719/1719 [==============================] - 6s 4ms/step - loss: 0.0372 - accuracy: 0.9908 - val_loss: 0.0682 - val_accuracy: 0.9790\n",
            "Epoch 26/30\n",
            "1719/1719 [==============================] - 7s 4ms/step - loss: 0.0351 - accuracy: 0.9914 - val_loss: 0.0674 - val_accuracy: 0.9796\n",
            "Epoch 27/30\n",
            "1719/1719 [==============================] - 6s 4ms/step - loss: 0.0329 - accuracy: 0.9919 - val_loss: 0.0693 - val_accuracy: 0.9798\n",
            "Epoch 28/30\n",
            "1719/1719 [==============================] - 8s 5ms/step - loss: 0.0311 - accuracy: 0.9923 - val_loss: 0.0668 - val_accuracy: 0.9800\n",
            "Epoch 29/30\n",
            "1719/1719 [==============================] - 7s 4ms/step - loss: 0.0294 - accuracy: 0.9930 - val_loss: 0.0674 - val_accuracy: 0.9788\n",
            "Epoch 30/30\n",
            "1719/1719 [==============================] - 7s 4ms/step - loss: 0.0278 - accuracy: 0.9937 - val_loss: 0.0664 - val_accuracy: 0.9792\n"
          ]
        }
      ]
    },
    {
      "cell_type": "code",
      "source": [
        "pd.DataFrame(history.history).plot()"
      ],
      "metadata": {
        "colab": {
          "base_uri": "https://localhost:8080/",
          "height": 448
        },
        "id": "aqjY59kTp-5F",
        "outputId": "16f9420c-1c0a-4d52-e567-20fc69f84554"
      },
      "execution_count": 66,
      "outputs": [
        {
          "output_type": "execute_result",
          "data": {
            "text/plain": [
              "<Axes: >"
            ]
          },
          "metadata": {},
          "execution_count": 66
        },
        {
          "output_type": "display_data",
          "data": {
            "text/plain": [
              "<Figure size 640x480 with 1 Axes>"
            ],
            "image/png": "[encoded data removed]"
          },
          "metadata": {}
        }
      ]
    },
    {
      "cell_type": "markdown",
      "source": [
        "# Creating layers of ANN with batch normalisation|"
      ],
      "metadata": {
        "id": "LMwGjdSdrHIP"
      }
    },
    {
      "cell_type": "code",
      "source": [
        "LAYERS = [tf.keras.layers.Flatten(input_shape=[28, 28], name=\"inputLayer\"),\n",
        "          tf.keras.layers.BatchNormalization(),\n",
        "          tf.keras.layers.Dense(300, activation=\"relu\", name=\"hiddenLayer1\"),\n",
        "          tf.keras.layers.BatchNormalization(),\n",
        "          tf.keras.layers.Dense(100, activation=\"relu\", name=\"hiddenLayer2\"),\n",
        "          tf.keras.layers.Dense(10, activation=\"softmax\", name=\"outputLayer\")]\n",
        "\n",
        "model_clf = tf.keras.models.Sequential(LAYERS)"
      ],
      "metadata": {
        "id": "P9Sgw6aMq4mr"
      },
      "execution_count": 67,
      "outputs": []
    },
    {
      "cell_type": "code",
      "source": [
        "model_clf.summary()"
      ],
      "metadata": {
        "colab": {
          "base_uri": "https://localhost:8080/"
        },
        "id": "q6HcaglPrSjL",
        "outputId": "dd7cdcd2-c48d-4eb9-ec06-45481cb220df"
      },
      "execution_count": 68,
      "outputs": [
        {
          "output_type": "stream",
          "name": "stdout",
          "text": [
            "Model: \"sequential_1\"\n",
            "_________________________________________________________________\n",
            " Layer (type)                Output Shape              Param #   \n",
            "=================================================================\n",
            " inputLayer (Flatten)        (None, 784)               0         \n",
            "                                                                 \n",
            " batch_normalization (BatchN  (None, 784)              3136      \n",
            " ormalization)                                                   \n",
            "                                                                 \n",
            " hiddenLayer1 (Dense)        (None, 300)               235500    \n",
            "                                                                 \n",
            " batch_normalization_1 (Batc  (None, 300)              1200      \n",
            " hNormalization)                                                 \n",
            "                                                                 \n",
            " hiddenLayer2 (Dense)        (None, 100)               30100     \n",
            "                                                                 \n",
            " outputLayer (Dense)         (None, 10)                1010      \n",
            "                                                                 \n",
            "=================================================================\n",
            "Total params: 270,946\n",
            "Trainable params: 268,778\n",
            "Non-trainable params: 2,168\n",
            "_________________________________________________________________\n"
          ]
        }
      ]
    },
    {
      "cell_type": "code",
      "source": [
        "LOSS_FUNCTION = \"sparse_categorical_crossentropy\" # use => tf.losses.sparse_categorical_crossentropy\n",
        "OPTIMIZER = \"SGD\" # or use with custom learning rate=> tf.keras.optimizers.SGD(0.02)\n",
        "METRICS = [\"accuracy\"]\n",
        "\n",
        "model_clf.compile(loss=LOSS_FUNCTION,\n",
        "              optimizer=OPTIMIZER,\n",
        "              metrics=METRICS)"
      ],
      "metadata": {
        "id": "pcKkQT6YrjIs"
      },
      "execution_count": 70,
      "outputs": []
    },
    {
      "cell_type": "code",
      "source": [
        "EPOCHS = 30\n",
        "VALIDATION_SET = (X_valid, y_valid)\n",
        "\n",
        "history = model_clf.fit(X_train, y_train, epochs=EPOCHS,\n",
        "                    validation_data=VALIDATION_SET, batch_size=32)"
      ],
      "metadata": {
        "colab": {
          "base_uri": "https://localhost:8080/"
        },
        "id": "FDqETl12rVib",
        "outputId": "87caf6c0-8c9a-47ed-d674-6a5662024001"
      },
      "execution_count": 71,
      "outputs": [
        {
          "output_type": "stream",
          "name": "stdout",
          "text": [
            "Epoch 1/30\n",
            "1719/1719 [==============================] - 10s 5ms/step - loss: 0.3671 - accuracy: 0.8918 - val_loss: 0.1896 - val_accuracy: 0.9460\n",
            "Epoch 2/30\n",
            "1719/1719 [==============================] - 8s 5ms/step - loss: 0.1783 - accuracy: 0.9475 - val_loss: 0.1532 - val_accuracy: 0.9530\n",
            "Epoch 3/30\n",
            "1719/1719 [==============================] - 9s 5ms/step - loss: 0.1360 - accuracy: 0.9598 - val_loss: 0.1342 - val_accuracy: 0.9608\n",
            "Epoch 4/30\n",
            "1719/1719 [==============================] - 8s 4ms/step - loss: 0.1126 - accuracy: 0.9661 - val_loss: 0.1271 - val_accuracy: 0.9630\n",
            "Epoch 5/30\n",
            "1719/1719 [==============================] - 9s 5ms/step - loss: 0.0975 - accuracy: 0.9709 - val_loss: 0.1170 - val_accuracy: 0.9658\n",
            "Epoch 6/30\n",
            "1719/1719 [==============================] - 10s 6ms/step - loss: 0.0822 - accuracy: 0.9754 - val_loss: 0.1110 - val_accuracy: 0.9678\n",
            "Epoch 7/30\n",
            "1719/1719 [==============================] - 9s 5ms/step - loss: 0.0721 - accuracy: 0.9786 - val_loss: 0.1022 - val_accuracy: 0.9700\n",
            "Epoch 8/30\n",
            "1719/1719 [==============================] - 10s 6ms/step - loss: 0.0633 - accuracy: 0.9811 - val_loss: 0.1064 - val_accuracy: 0.9702\n",
            "Epoch 9/30\n",
            "1719/1719 [==============================] - 11s 6ms/step - loss: 0.0560 - accuracy: 0.9833 - val_loss: 0.1022 - val_accuracy: 0.9710\n",
            "Epoch 10/30\n",
            "1719/1719 [==============================] - 8s 5ms/step - loss: 0.0511 - accuracy: 0.9845 - val_loss: 0.1039 - val_accuracy: 0.9708\n",
            "Epoch 11/30\n",
            "1719/1719 [==============================] - 10s 6ms/step - loss: 0.0450 - accuracy: 0.9865 - val_loss: 0.0981 - val_accuracy: 0.9708\n",
            "Epoch 12/30\n",
            "1719/1719 [==============================] - 9s 5ms/step - loss: 0.0408 - accuracy: 0.9881 - val_loss: 0.1017 - val_accuracy: 0.9716\n",
            "Epoch 13/30\n",
            "1719/1719 [==============================] - 8s 4ms/step - loss: 0.0380 - accuracy: 0.9893 - val_loss: 0.1029 - val_accuracy: 0.9714\n",
            "Epoch 14/30\n",
            "1719/1719 [==============================] - 9s 5ms/step - loss: 0.0336 - accuracy: 0.9905 - val_loss: 0.1018 - val_accuracy: 0.9718\n",
            "Epoch 15/30\n",
            "1719/1719 [==============================] - 8s 5ms/step - loss: 0.0302 - accuracy: 0.9919 - val_loss: 0.0972 - val_accuracy: 0.9734\n",
            "Epoch 16/30\n",
            "1719/1719 [==============================] - 9s 5ms/step - loss: 0.0287 - accuracy: 0.9924 - val_loss: 0.0992 - val_accuracy: 0.9744\n",
            "Epoch 17/30\n",
            "1719/1719 [==============================] - 9s 5ms/step - loss: 0.0262 - accuracy: 0.9925 - val_loss: 0.1006 - val_accuracy: 0.9738\n",
            "Epoch 18/30\n",
            "1719/1719 [==============================] - 7s 4ms/step - loss: 0.0242 - accuracy: 0.9937 - val_loss: 0.1008 - val_accuracy: 0.9744\n",
            "Epoch 19/30\n",
            "1719/1719 [==============================] - 9s 5ms/step - loss: 0.0225 - accuracy: 0.9941 - val_loss: 0.0993 - val_accuracy: 0.9738\n",
            "Epoch 20/30\n",
            "1719/1719 [==============================] - 8s 5ms/step - loss: 0.0206 - accuracy: 0.9945 - val_loss: 0.0981 - val_accuracy: 0.9750\n",
            "Epoch 21/30\n",
            "1719/1719 [==============================] - 8s 5ms/step - loss: 0.0197 - accuracy: 0.9950 - val_loss: 0.0987 - val_accuracy: 0.9740\n",
            "Epoch 22/30\n",
            "1719/1719 [==============================] - 9s 5ms/step - loss: 0.0186 - accuracy: 0.9953 - val_loss: 0.0981 - val_accuracy: 0.9744\n",
            "Epoch 23/30\n",
            "1719/1719 [==============================] - 8s 4ms/step - loss: 0.0170 - accuracy: 0.9956 - val_loss: 0.0988 - val_accuracy: 0.9752\n",
            "Epoch 24/30\n",
            "1719/1719 [==============================] - 9s 5ms/step - loss: 0.0168 - accuracy: 0.9959 - val_loss: 0.0979 - val_accuracy: 0.9744\n",
            "Epoch 25/30\n",
            "1719/1719 [==============================] - 8s 5ms/step - loss: 0.0153 - accuracy: 0.9963 - val_loss: 0.0975 - val_accuracy: 0.9756\n",
            "Epoch 26/30\n",
            "1719/1719 [==============================] - 8s 5ms/step - loss: 0.0143 - accuracy: 0.9963 - val_loss: 0.0998 - val_accuracy: 0.9768\n",
            "Epoch 27/30\n",
            "1719/1719 [==============================] - 9s 5ms/step - loss: 0.0140 - accuracy: 0.9966 - val_loss: 0.0999 - val_accuracy: 0.9770\n",
            "Epoch 28/30\n",
            "1719/1719 [==============================] - 8s 4ms/step - loss: 0.0132 - accuracy: 0.9969 - val_loss: 0.0995 - val_accuracy: 0.9766\n",
            "Epoch 29/30\n",
            "1719/1719 [==============================] - 9s 5ms/step - loss: 0.0128 - accuracy: 0.9968 - val_loss: 0.1029 - val_accuracy: 0.9740\n",
            "Epoch 30/30\n",
            "1719/1719 [==============================] - 8s 5ms/step - loss: 0.0116 - accuracy: 0.9972 - val_loss: 0.0980 - val_accuracy: 0.9752\n"
          ]
        }
      ]
    },
    {
      "cell_type": "code",
      "source": [],
      "metadata": {
        "id": "S0sEroixrwDZ"
      },
      "execution_count": null,
      "outputs": []
    },
    {
      "cell_type": "markdown",
      "source": [
        "# Here we can draw conclusion that weith batch normalisation, our model reaches same accuracy in eraly epochs only."
      ],
      "metadata": {
        "id": "aSk3eK9Vru0Q"
      }
    },
    {
      "cell_type": "code",
      "source": [],
      "metadata": {
        "id": "Pt0lp-8frdaj"
      },
      "execution_count": null,
      "outputs": []
    }
  ]
}