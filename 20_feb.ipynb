{
  "cells": [
    {
      "cell_type": "markdown",
      "source": [
        "Q1. Explain GET and POST methods.\n"
      ],
      "metadata": {
        "id": "Gb8BRpdQnuTe"
      }
    },
    {
      "cell_type": "markdown",
      "source": [
        "The GET and POST methods are HTTP request methods used to retrieve and send data between a client and server. GET requests are used to retrieve data from a server using a URL with parameters in the query string, while POST requests are used to send data to a server in the request body. GET requests are typically used to retrieve data, while POST requests are used to submit data and create or update resources on the server.\n"
      ],
      "metadata": {
        "id": "-_MCFmFPn-1r"
      }
    },
    {
      "cell_type": "markdown",
      "source": [
        "Q2. Why is request used in Flask?"
      ],
      "metadata": {
        "id": "GbwsleuAoEEr"
      }
    },
    {
      "cell_type": "markdown",
      "source": [
        "Requests are used in Flask to handle incoming HTTP requests from clients. The Flask framework uses the Werkzeug library to provide a Request object that encapsulates an incoming HTTP request and provides methods and properties to access information about the request, such as its URL, headers, data, and method. By using the Request object, Flask developers can easily handle incoming requests and generate appropriate responses to clients."
      ],
      "metadata": {
        "id": "cpEZXxdIoJQF"
      }
    },
    {
      "cell_type": "markdown",
      "source": [
        "Q3. Why is redirect() used in Flask?\n"
      ],
      "metadata": {
        "id": "sIA1ynO0oOHJ"
      }
    },
    {
      "cell_type": "markdown",
      "source": [
        "The redirect() function in Flask is used to redirect an HTTP request to a different URL. This function is useful when a client requests a URL that should be handled by a different view function or when a client needs to be redirected to a different page after a successful operation, such as a form submission. The redirect() function returns a response object with a 302 status code and a Location header that specifies the new URL to which the client should be redirected. By using the redirect() function, Flask developers can easily manage URL redirection and provide a better user experience for clients."
      ],
      "metadata": {
        "id": "mXp_FAkBoTv_"
      }
    },
    {
      "cell_type": "markdown",
      "source": [
        "Q4. What are templates in Flask? Why is the render_template() function used?"
      ],
      "metadata": {
        "id": "zVfLr-mLoYx8"
      }
    },
    {
      "cell_type": "markdown",
      "source": [
        "Templates in Flask are files that define the structure and content of an HTML page, and allow developers to generate dynamic HTML pages by replacing placeholders with data from the application. Flask uses the Jinja2 template engine to render templates and generate HTML pages.\n"
      ],
      "metadata": {
        "id": "29GytnLiobta"
      }
    },
    {
      "cell_type": "code",
      "source": [],
      "metadata": {
        "id": "unF7Ejbxj6K1"
      },
      "execution_count": null,
      "outputs": []
    }
  ],
  "metadata": {
    "kernelspec": {
      "display_name": "Python 3 (ipykernel)",
      "language": "python",
      "name": "python3"
    },
    "language_info": {
      "codemirror_mode": {
        "name": "ipython",
        "version": 3
      },
      "file_extension": ".py",
      "mimetype": "text/x-python",
      "name": "python",
      "nbconvert_exporter": "python",
      "pygments_lexer": "ipython3",
      "version": "3.9.13"
    },
    "colab": {
      "provenance": []
    }
  },
  "nbformat": 4,
  "nbformat_minor": 0
}