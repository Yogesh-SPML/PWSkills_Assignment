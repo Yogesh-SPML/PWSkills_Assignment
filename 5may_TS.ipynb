{
  "nbformat": 4,
  "nbformat_minor": 0,
  "metadata": {
    "colab": {
      "provenance": []
    },
    "kernelspec": {
      "name": "python3",
      "display_name": "Python 3"
    },
    "language_info": {
      "name": "python"
    }
  },
  "cells": [
    {
      "cell_type": "markdown",
      "source": [
        "Q1. What is meant by time-dependent seasonal components?\n"
      ],
      "metadata": {
        "id": "a5Ys9mpGD85R"
      }
    },
    {
      "cell_type": "markdown",
      "source": [
        "time-dependent seasonal components refer to seasonal patterns in a time series that change over time. In other words, the seasonal component of the time series varies with time. For example, in a retail sales time series, the demand for specific products may vary by season, but the magnitude and timing of the seasonal effect may change over time. This is in contrast to time-invariant seasonal components, where the seasonal pattern remains constant over time. Time-dependent seasonal components can be modeled using techniques such as Seasonal ARIMA (SARIMA) or state space models."
      ],
      "metadata": {
        "id": "FhvllVQ0EAFR"
      }
    },
    {
      "cell_type": "markdown",
      "source": [
        "Q2. How can time-dependent seasonal components be identified in time series data?"
      ],
      "metadata": {
        "id": "8QFeS3mOEh7f"
      }
    },
    {
      "cell_type": "markdown",
      "source": [
        "Time-dependent seasonal components can be identified in time series data by examining the autocorrelation and partial autocorrelation functions of the data. Specifically, if there are significant spikes at seasonal lags in the autocorrelation or partial autocorrelation functions, this suggests the presence of seasonal components in the data. Additionally, time series plots and seasonal subseries plots can be used to visualize the seasonal patterns in the data."
      ],
      "metadata": {
        "id": "hcTB7wM2EvLp"
      }
    },
    {
      "cell_type": "markdown",
      "source": [
        "Q4. How are autoregression models used in time series analysis and forecasting?"
      ],
      "metadata": {
        "id": "ZW0t4KYSE0RJ"
      }
    },
    {
      "cell_type": "markdown",
      "source": [
        "Autoregression (AR) models are used in time series analysis and forecasting to model the relationship between an observation and a number of lagged observations of the same variable. Specifically, an AR model of order p is a linear regression model that uses the p previous observations of the time series to predict the current observation. The model assumes that the current observation is a linear combination of the p previous observations, plus a white noise error term. The coefficients of the model are estimated using maximum likelihood or least squares, and can be used to make forecasts for future time periods. AR models are commonly used in situations where the time series exhibits autocorrelation, or where there is evidence of a trend or seasonal pattern in the data."
      ],
      "metadata": {
        "id": "tHvWcofPFBbp"
      }
    },
    {
      "cell_type": "markdown",
      "source": [
        "Q6. What is a moving average (MA) model and how does it differ from other time series models?"
      ],
      "metadata": {
        "id": "7DBWTBjBFGSw"
      }
    },
    {
      "cell_type": "markdown",
      "source": [
        "A moving average (MA) model is a type of time series model that is used to describe the random fluctuations or noise in a time series. Unlike autoregressive (AR) models, which model the relationship between an observation and a number of lagged observations of the same variable, MA models model the relationship between an observation and a number of lagged error terms. Specifically, an MA model of order q is a linear regression model that uses the q previous error terms to predict the current observation. The model assumes that the current observation is a linear combination of the q previous error terms, plus a white noise error term. The coefficients of the model are estimated using maximum likelihood or least squares, and can be used to make forecasts for future time periods. MA models are commonly used in situations where the time series exhibits autocorrelation, or where there is evidence of a trend or seasonal pattern in the data."
      ],
      "metadata": {
        "id": "aIERjuFzFN5I"
      }
    },
    {
      "cell_type": "code",
      "source": [],
      "metadata": {
        "id": "7QGrorU9D_bj"
      },
      "execution_count": null,
      "outputs": []
    }
  ]
}