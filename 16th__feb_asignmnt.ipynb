{
  "nbformat": 4,
  "nbformat_minor": 0,
  "metadata": {
    "colab": {
      "provenance": []
    },
    "kernelspec": {
      "name": "python3",
      "display_name": "Python 3"
    },
    "language_info": {
      "name": "python"
    }
  },
  "cells": [
    {
      "cell_type": "code",
      "source": [
        "#Q1. What is a database? Differentiate between SQL and NoSQL databases."
      ],
      "metadata": {
        "id": "RhpvORoZrxFC"
      },
      "execution_count": 1,
      "outputs": []
    },
    {
      "cell_type": "markdown",
      "source": [
        "A database is a collection of data that is organized and structured in a way that makes it easy to access, manage, and update. \n",
        "\n",
        "SQL databases are relational databases that use structured query language, while NoSQL databases are non-relational databases that use a variety of data models."
      ],
      "metadata": {
        "id": "BWlu9Gq3rzhu"
      }
    },
    {
      "cell_type": "code",
      "source": [
        "#Q2. What is DDL? Explain why CREATE, DROP, ALTER, and TRUNCATE are used with an example."
      ],
      "metadata": {
        "id": "YEjfIjw8rzLN"
      },
      "execution_count": 3,
      "outputs": []
    },
    {
      "cell_type": "markdown",
      "source": [
        " DDL stands for Data Definition Language, which is used to define the structure of a database. \n",
        " \n",
        " CREATE is used to create a new table or database,\n",
        " \n",
        " DROP is used to delete an existing table or database, \n",
        " \n",
        " ALTER is used to modify the structure of an existing table, \n",
        " and TRUNCATE is used to delete all the data from an existing table while keeping the structure intact. \n",
        " \n",
        " For example, CREATE TABLE Students (ID INT, Name VARCHAR(50), Age INT) \n",
        " \n",
        " creates a new table called Students with three columns: ID, Name, and Age."
      ],
      "metadata": {
        "id": "gKSyGxxUr_nN"
      }
    },
    {
      "cell_type": "code",
      "source": [
        "#Q3. What is DML? Explain INSERT, UPDATE, and DELETE with an example."
      ],
      "metadata": {
        "id": "PguZuD1Wr_L6"
      },
      "execution_count": 4,
      "outputs": []
    },
    {
      "cell_type": "markdown",
      "source": [
        "DML stands for Data Manipulation Language, which is used to manipulate data in a database. \n",
        "INSERT is used to add new data to a table, UPDATE is used to modify existing data in a table, and DELETE is used to remove data from a table.  \n",
        "\n",
        "example= INSERT INTO Students (ID, Name, Age) VALUES (1, 'John', 20) adds a new row with ID 1, Name John, and Age 20 to the Students table. \n",
        "\n",
        "UPDATE Students SET Age = 21 WHERE ID = 1, modifies the Age column of the row with ID 1 to 21. \n",
        "\n",
        "DELETE FROM Students WHERE ID = 1 removes the row with ID 1 from the Students table."
      ],
      "metadata": {
        "id": "SGUpCPeqsTmG"
      }
    },
    {
      "cell_type": "code",
      "source": [
        "#Q4. What is DQL? Explain SELECT with an example."
      ],
      "metadata": {
        "id": "N42glbvosTDR"
      },
      "execution_count": 5,
      "outputs": []
    },
    {
      "cell_type": "markdown",
      "source": [
        "DQL stands for Data Query Language, which is used to retrieve data from a database. \n",
        "\n",
        "SELECT is used to retrieve data from one or more tables in a database. \n",
        "\n",
        "For example, SELECT * FROM Students retrieves all the rows and columns from the Students table, \n",
        "\n",
        "while SELECT Name, Age FROM Students WHERE Age > 20 retrieves only the Name and Age columns from the rows where the Age is greater than 20."
      ],
      "metadata": {
        "id": "wQgXgxYusnrN"
      }
    },
    {
      "cell_type": "code",
      "source": [
        "# Q5. Explain Primary Key and Foreign Key."
      ],
      "metadata": {
        "id": "3bY77E3fsnXU"
      },
      "execution_count": 6,
      "outputs": []
    },
    {
      "cell_type": "markdown",
      "source": [
        "A primary key is a column or set of columns in a table that uniquely identifies each row in that table. It must contain unique values, and no two rows in the table can have the same primary key value. A foreign key is a column or set of columns in one table that refers to the primary key of another table. "
      ],
      "metadata": {
        "id": "UTzx6Eq-s2xZ"
      }
    },
    {
      "cell_type": "code",
      "source": [
        "# Q6. Write a python code to connect MySQL to python. Explain the cursor() and execute() method."
      ],
      "metadata": {
        "id": "belhxkwYs2O0"
      },
      "execution_count": 7,
      "outputs": []
    },
    {
      "cell_type": "markdown",
      "source": [
        "import mysql.connector\n",
        "\n",
        "mydb = mysql.connector.connect(\n",
        "  host=\"localhost\",\n",
        "  user=\"yourusername\",\n",
        "  password=\"yourpassword\",\n",
        "  database=\"mydatabase\"\n",
        ")\n",
        "\n",
        "mycursor = mydb.cursor()\n",
        "\n",
        "mycursor.execute(\"SELECT * FROM customers\")\n",
        "\n",
        "myresult = mycursor.fetchall()\n",
        "\n",
        "for x in myresult:\n",
        "  print(x)\n",
        "```\n",
        "\n",
        "The `cursor()` method creates a cursor object that allows you to execute SQL queries on a database. \n",
        "The `execute()` method is used to execute a SQL query on the database."
      ],
      "metadata": {
        "id": "esUy8VAgtKJr"
      }
    },
    {
      "cell_type": "code",
      "source": [],
      "metadata": {
        "id": "T7cGc-bQtDej"
      },
      "execution_count": null,
      "outputs": []
    }
  ]
}