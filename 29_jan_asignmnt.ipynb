{
  "nbformat": 4,
  "nbformat_minor": 0,
  "metadata": {
    "colab": {
      "provenance": []
    },
    "kernelspec": {
      "name": "python3",
      "display_name": "Python 3"
    },
    "language_info": {
      "name": "python"
    }
  },
  "cells": [
    {
      "cell_type": "code",
      "execution_count": 1,
      "metadata": {
        "id": "YFiXwzl6kqvo"
      },
      "outputs": [],
      "source": [
        "#  ans(1)=>  Guido van Rossum "
      ]
    },
    {
      "cell_type": "code",
      "source": [
        "#  ans(2)=> Python supports OOPs (Object oriented programming language)"
      ],
      "metadata": {
        "id": "KIvefHnolHpM"
      },
      "execution_count": 2,
      "outputs": []
    },
    {
      "cell_type": "code",
      "source": [
        "#  ans(3)=>  Yes, Python is a case−sensitive programming language"
      ],
      "metadata": {
        "id": "yAwyZdfbll95"
      },
      "execution_count": 4,
      "outputs": []
    },
    {
      "cell_type": "code",
      "source": [
        "# ans(4)=> extention of python code is .py"
      ],
      "metadata": {
        "id": "BghYOHnAIpkY"
      },
      "execution_count": 6,
      "outputs": []
    },
    {
      "cell_type": "code",
      "source": [
        "#  ans(5)=> Python is an interpreted language"
      ],
      "metadata": {
        "id": "1xqF8HctHhiV"
      },
      "execution_count": 7,
      "outputs": []
    },
    {
      "cell_type": "code",
      "source": [
        "#  ans(6)=>  The following are blocks: a module, a function body, and a class definition."
      ],
      "metadata": {
        "id": "xcnSABozIjsk"
      },
      "execution_count": 8,
      "outputs": []
    },
    {
      "cell_type": "code",
      "source": [
        "# ans(7)=>  # is used to give single line comment in python."
      ],
      "metadata": {
        "id": "lKAAOePdI4Y8"
      },
      "execution_count": 9,
      "outputs": []
    },
    {
      "cell_type": "code",
      "source": [
        "# ans(8)=> we can use the command python --version"
      ],
      "metadata": {
        "id": "29o9sV_BJEZU"
      },
      "execution_count": 10,
      "outputs": []
    },
    {
      "cell_type": "code",
      "source": [
        "# ans(10)=> pip Install Packages"
      ],
      "metadata": {
        "id": "sp8mcaqGJQN1"
      },
      "execution_count": 11,
      "outputs": []
    },
    {
      "cell_type": "code",
      "source": [
        "# ans(11)=> str(),sum(),super()."
      ],
      "metadata": {
        "id": "t71_YrhMM6zi"
      },
      "execution_count": 12,
      "outputs": []
    },
    {
      "cell_type": "code",
      "source": [
        "# ans(12)=> 79 characters"
      ],
      "metadata": {
        "id": "BhD-ZgpGNE6c"
      },
      "execution_count": 13,
      "outputs": []
    },
    {
      "cell_type": "code",
      "source": [
        "# ans(16)=> Indentation is important to Python, "
      ],
      "metadata": {
        "id": "9qf2rO07NLK0"
      },
      "execution_count": null,
      "outputs": []
    }
  ]
}