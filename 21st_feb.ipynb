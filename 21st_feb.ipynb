{
  "cells": [
    {
      "cell_type": "code",
      "source": [
        "#Q1. What is Web Scraping? Why is it Used? Give three areas where Web Scraping is used to get data."
      ],
      "metadata": {
        "id": "gsG38AbMqa6v"
      },
      "execution_count": null,
      "outputs": []
    },
    {
      "cell_type": "markdown",
      "source": [
        "Web scraping is the process of extracting data from websites. It's used to gather data from websites that do not provide an API. Three areas where web scraping is commonly used are e-commerce, data journalism, and market research."
      ],
      "metadata": {
        "id": "Fu9QTAyTqc-7"
      }
    },
    {
      "cell_type": "code",
      "source": [
        "#Q2. What are the different methods used for Web Scraping?"
      ],
      "metadata": {
        "id": "2QXy5T-LqoLn"
      },
      "execution_count": 1,
      "outputs": []
    },
    {
      "cell_type": "markdown",
      "source": [
        "There are several methods used for web scraping, including parsing HTML code, using web scraping software, and using browser extension"
      ],
      "metadata": {
        "id": "oHYgtPwoqsq-"
      }
    },
    {
      "cell_type": "code",
      "source": [
        "#Q3. What is Beautiful Soup? Why is it used?"
      ],
      "metadata": {
        "id": "RufkzvgdqzBz"
      },
      "execution_count": null,
      "outputs": []
    },
    {
      "cell_type": "markdown",
      "source": [
        "Beautiful Soup is a Python library used for web scraping purposes to pull the data out of HTML and XML files. It's used because it simplifies the process of parsing HTML and XML files and makes it easier to extract data from web pages.\n"
      ],
      "metadata": {
        "id": "s5EEubPkq1k_"
      }
    },
    {
      "cell_type": "code",
      "source": [
        "#Q4. Why is flask used in this Web Scraping project?"
      ],
      "metadata": {
        "id": "AaDUGHfaqsK8"
      },
      "execution_count": null,
      "outputs": []
    },
    {
      "cell_type": "markdown",
      "source": [
        "Flask is a Python web framework used to develop web applications. Flask is used in this web scraping project because it provides a simple and easy-to-use interface for running web applications and makes it easy to integrate web scraping into a web application."
      ],
      "metadata": {
        "id": "DA2TT468q_OM"
      }
    },
    {
      "cell_type": "code",
      "source": [],
      "metadata": {
        "id": "1eV9tmiarE1O"
      },
      "execution_count": null,
      "outputs": []
    }
  ],
  "metadata": {
    "colab": {
      "provenance": []
    },
    "kernelspec": {
      "display_name": "Python 3",
      "name": "python3"
    },
    "language_info": {
      "name": "python"
    }
  },
  "nbformat": 4,
  "nbformat_minor": 0
}