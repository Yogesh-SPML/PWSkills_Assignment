{
  "nbformat": 4,
  "nbformat_minor": 0,
  "metadata": {
    "colab": {
      "provenance": []
    },
    "kernelspec": {
      "name": "python3",
      "display_name": "Python 3"
    },
    "language_info": {
      "name": "python"
    }
  },
  "cells": [
    {
      "cell_type": "markdown",
      "source": [
        "Q1. What is a time series, and what are some common applications of time series analysis?\n"
      ],
      "metadata": {
        "id": "pDNIEmEJ5L0G"
      }
    },
    {
      "cell_type": "markdown",
      "source": [
        "Time series is a sequence of data points collected at regular intervals over time. Some common applications of time series analysis include monitoring stock prices, analyzing weather patterns, and predicting future sales."
      ],
      "metadata": {
        "id": "i56MDLqTA3Md"
      }
    },
    {
      "cell_type": "markdown",
      "source": [
        "Q2. What are some common time series patterns, and how can they be identified and interpreted?"
      ],
      "metadata": {
        "id": "w-pTh6I7BHKn"
      }
    },
    {
      "cell_type": "markdown",
      "source": [
        "Some common time series patterns include trend, seasonality, and cyclical patterns. These patterns can be identified by analyzing the data over time and looking for recurring patterns. Trend refers to a long-term increase or decrease in the data, while seasonality refers to recurring patterns that occur over a fixed period, such as daily, weekly, or monthly. Cyclical patterns refer to fluctuations that occur over a longer period than seasonality, such as economic cycles.\n"
      ],
      "metadata": {
        "id": "TeHC5dgBBOd9"
      }
    },
    {
      "cell_type": "markdown",
      "source": [
        "Time series data can be preprocessed by removing noise, handling missing values, and transforming the data into a stationary series. Noise can be removed by smoothing the data or using filtering techniques. Missing values can be handled by imputing the missing data or removing the time steps with missing data. Transforming the data into a stationary series can be done by removing the trend and seasonality components of the data."
      ],
      "metadata": {
        "id": "Zb-DHXfkBU0h"
      }
    },
    {
      "cell_type": "markdown",
      "source": [
        "Q5. What is ARIMA modelling, and how can it be used to forecast time series data?"
      ],
      "metadata": {
        "id": "T4ILeZ7UByhB"
      }
    },
    {
      "cell_type": "markdown",
      "source": [
        "A5. ARIMA (Autoregressive Integrated Moving Average) modelling is a technique used to model time series data. It is a combination of autoregressive (AR) and moving average (MA) models, and includes a differencing step to make the data stationary."
      ],
      "metadata": {
        "id": "W7f0w-zNBzYt"
      }
    },
    {
      "cell_type": "markdown",
      "source": [
        "Q6. How do Autocorrelation Function (ACF) and Partial Autocorrelation Function (PACF) plots help in\n",
        "identifying the order of ARIMA models?"
      ],
      "metadata": {
        "id": "apsDuJzXCAih"
      }
    },
    {
      "cell_type": "markdown",
      "source": [
        "Autocorrelation Function (ACF) and Partial Autocorrelation Function (PACF) plots help in identifying the order of ARIMA models by showing the correlation between the time series and its lags. The ACF plot shows the correlation between the time series and its lags, while the PACF plot shows the correlation between the time series and its lags after accounting for the correlation with the intermediate lags. By analyzing the ACF and PACF plots, we can identify the order of the ARIMA model based on the number of significant lags. For example, if the ACF plot shows a significant correlation at lag 1 and the PACF plot shows a significant correlation at lag 1 and no other lags, then the ARIMA model is likely to be an AR(1) model."
      ],
      "metadata": {
        "id": "CnFne5LkCOdo"
      }
    },
    {
      "cell_type": "markdown",
      "source": [
        "Q7. What are the assumptions of ARIMA models, and how can they be tested for in practice?"
      ],
      "metadata": {
        "id": "0aC1iORkCRA1"
      }
    },
    {
      "cell_type": "markdown",
      "source": [
        "The assumptions of ARIMA models include stationarity, normality, and independence of errors. Stationarity means that the statistical properties of the time series do not change over time. Normality means that the errors are normally distributed with a mean of zero and constant variance. Independence of errors means that the errors are not correlated with each other. These assumptions can be tested for in practice by analyzing the residuals of the model. Residuals should be stationary, normally distributed, and uncorrelated. Tests for normality, such as the Shapiro-Wilk test, can be used to test for normality of the residuals. Tests for stationarity, such as the Augmented Dickey-Fuller (ADF) test, can be used to test for stationarity of the residuals. The Durbin-Watson test can be used to test for independence of errors."
      ],
      "metadata": {
        "id": "3FIL1Yx-CVxg"
      }
    },
    {
      "cell_type": "markdown",
      "source": [
        "Q8. Suppose you have monthly sales data for a retail store for the past three years. Which type of time\n",
        "series model would you recommend for forecasting future sales, and why?"
      ],
      "metadata": {
        "id": "_iSv_ZjUCeDM"
      }
    },
    {
      "cell_type": "markdown",
      "source": [
        "If the sales data exhibits a trend and/or seasonality, I would recommend using a Seasonal ARIMA (SARIMA) model for forecasting future sales. SARIMA models are specifically designed to handle time series data with seasonal patterns, and can capture both the trend and seasonality in the data. Additionally, SARIMA models can handle non-stationary data by including differencing terms. SARIMA models can be estimated using statistical software such as R or Python, and can be used to generate forecasts for future sales."
      ],
      "metadata": {
        "id": "lV1yY_ryCuE9"
      }
    },
    {
      "cell_type": "markdown",
      "source": [
        "Q9. What are some of the limitations of time series analysis? Provide an example of a scenario where the\n",
        "limitations of time series analysis may be particularly relevant."
      ],
      "metadata": {
        "id": "wukaIBHjC0u8"
      }
    },
    {
      "cell_type": "markdown",
      "source": [
        "Some limitations of time series analysis include its inability to handle complex relationships between variables, its reliance on past data to make future predictions, and its sensitivity to outliers and missing data. For example, if a time series analysis is used to forecast sales of a new product, the analysis may not be able to account for external factors that could affect sales, such as changes in the market or the introduction of a competing product. Additionally, if the product experiences a sudden surge in popularity or a sudden decrease in demand, the time series analysis may not be able to accurately predict future sales. This could be particularly relevant in situations where the market is highly volatile or unpredictable, such as during a recession or a pandemic. In such situations, it may be necessary to use alternative methods, such as scenario planning or machine learning, to make accurate predictions."
      ],
      "metadata": {
        "id": "Yu-G7-2rC5gb"
      }
    },
    {
      "cell_type": "markdown",
      "source": [
        "Q10. Explain the difference between a stationary and non-stationary time series. How does the stationarity\n",
        "of a time series affect the choice of forecasting model?"
      ],
      "metadata": {
        "id": "66JzhJoEDE6w"
      }
    },
    {
      "cell_type": "markdown",
      "source": [
        "A stationary time series is one in which the statistical properties of the time series do not change over time. Specifically, the mean, variance, and autocorrelation of the time series are constant over time. A non-stationary time series, on the other hand, is one in which the statistical properties of the time series change over time. Non-stationary time series can exhibit trends, seasonality, or other patterns that change over time.\n",
        "\n",
        "The stationarity of a time series affects the choice of forecasting model because many time series forecasting models, such as ARIMA models, require the data to be stationary in order to produce accurate forecasts. If the time series is non-stationary, it may be necessary to transform the data, such as by taking differences or applying a logarithmic transformation, in order to make the data stationary. Alternatively, other forecasting models, such as exponential smoothing models or machine learning models, may be better suited for non-stationary time series data. The choice of model will depend on the specific characteristics of the time series data, as well as the goals of the analysis.\n"
      ],
      "metadata": {
        "id": "nBIAOGByDLIb"
      }
    },
    {
      "cell_type": "code",
      "source": [],
      "metadata": {
        "id": "eJ4C3w2JIydT"
      },
      "execution_count": null,
      "outputs": []
    }
  ]
}