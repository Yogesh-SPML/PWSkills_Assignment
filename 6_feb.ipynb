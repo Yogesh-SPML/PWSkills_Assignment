{
  "cells": [
    {
      "cell_type": "markdown",
      "source": [
        "Q1. Create a function which will take a list as an argument and return the product of all the numbers\n",
        "after creating a flat list.\n",
        "Use the below-given list as an argument for your function.\n",
        "list1 = [1,2,3,4, [44,55,66, True], False, (34,56,78,89,34), {1,2,3,3,2,1}, {1:34, \"key2\": [55, 67, 78, 89], 4: (45,\n",
        "22, 61, 34)}, [56, 'data science'], 'Machine Learning']"
      ],
      "metadata": {
        "id": "DQqbRcf-d4Rh"
      }
    },
    {
      "cell_type": "code",
      "source": [
        "def product_of_numbers(lst):\n",
        "    flat_list = []\n",
        "    for item in lst:\n",
        "        if isinstance(item, (list, tuple, set)):\n",
        "            flat_list.extend(item)\n",
        "        else:\n",
        "            flat_list.append(item)\n",
        "    product = 1\n",
        "    for num in flat_list:\n",
        "        if isinstance(num, (int, float)):\n",
        "            product *= num\n",
        "    return product\n",
        "\n",
        "list1 = [1,2,3,4, [44,55,66, True], False, (34,56,78,89,34), {1,2,3,3,2,1}, {1:34, \"key2\": [55, 67, 78, 89], 4: (45, 22, 61, 34)}, [56, 'data science'], 'Machine Learning']\n",
        "\n",
        "print(product_of_numbers(list1))"
      ],
      "metadata": {
        "id": "diMaiUNJew2d",
        "outputId": "754565ec-208f-4cc0-8497-cbf573fa0943",
        "colab": {
          "base_uri": "https://localhost:8080/"
        }
      },
      "execution_count": 2,
      "outputs": [
        {
          "output_type": "stream",
          "name": "stdout",
          "text": [
            "0\n"
          ]
        }
      ]
    },
    {
      "cell_type": "markdown",
      "source": [
        "Q2. Write a python program for encrypting a message sent to you by your friend. The logic of encryption\n",
        "should be such that, for a the output should be z. For b, the output should be y. For c, the output should\n",
        "be x respectively. Also, the whitespace should be replaced with a dollar sign. Keep the punctuation\n",
        "marks unchanged.\n",
        "Input Sentence: I want to become a Data Scientist.\n",
        "Encrypt the above input sentence using the program you just created."
      ],
      "metadata": {
        "id": "ycvPP-o1fP1x"
      }
    },
    {
      "cell_type": "code",
      "source": [
        "def encrypt_message(message):\n",
        "    encrypted = \"\"\n",
        "    for char in message:\n",
        "        if char.isalpha():\n",
        "            encrypted += chr(ord('a') + ord('z') - ord(char))\n",
        "        elif char == \" \":\n",
        "            encrypted += \"$\"\n",
        "        else:\n",
        "            encrypted += char\n",
        "    return encrypted"
      ],
      "metadata": {
        "id": "hl-5BW11hg6d"
      },
      "execution_count": 16,
      "outputs": []
    },
    {
      "cell_type": "code",
      "source": [
        "message = \"I want to become a Data Scientist.\"\n",
        "encrypted_message = encrypt_message(message)\n",
        "print(encrypted_message)"
      ],
      "metadata": {
        "id": "Z0OrrZARhhim",
        "outputId": "e06218c1-0384-4fac-c87b-6182dbc19df4",
        "colab": {
          "base_uri": "https://localhost:8080/"
        }
      },
      "execution_count": 17,
      "outputs": [
        {
          "output_type": "stream",
          "name": "stdout",
          "text": [
            "$dzmg$gl$yvxlnv$z$zgz$xrvmgrhg.\n"
          ]
        }
      ]
    },
    {
      "cell_type": "code",
      "source": [],
      "metadata": {
        "id": "J-WAvmwxh_T-"
      },
      "execution_count": null,
      "outputs": []
    }
  ],
  "metadata": {
    "kernelspec": {
      "display_name": "Python 3 (ipykernel)",
      "language": "python",
      "name": "python3"
    },
    "language_info": {
      "codemirror_mode": {
        "name": "ipython",
        "version": 3
      },
      "file_extension": ".py",
      "mimetype": "text/x-python",
      "name": "python",
      "nbconvert_exporter": "python",
      "pygments_lexer": "ipython3",
      "version": "3.9.13"
    },
    "colab": {
      "provenance": []
    }
  },
  "nbformat": 4,
  "nbformat_minor": 0
}