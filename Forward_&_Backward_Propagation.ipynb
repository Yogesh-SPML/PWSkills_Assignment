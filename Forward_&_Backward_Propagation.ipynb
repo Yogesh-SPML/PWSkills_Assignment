{
  "nbformat": 4,
  "nbformat_minor": 0,
  "metadata": {
    "colab": {
      "provenance": []
    },
    "kernelspec": {
      "name": "python3",
      "display_name": "Python 3"
    },
    "language_info": {
      "name": "python"
    },
    "accelerator": "GPU"
  },
  "cells": [
    {
      "cell_type": "markdown",
      "source": [
        "Q1. What is the purpose of forward propagation in a neural network?"
      ],
      "metadata": {
        "id": "ZX7dPQsIE6pj"
      }
    },
    {
      "cell_type": "markdown",
      "source": [
        "The purpose of forward propagation in a neural network is to compute the output of the network given an input. During forward propagation, the input is passed through the network layer by layer, with each layer transforming the input in some way. The output of the final layer is then used to make a prediction or decision based on the task at hand."
      ],
      "metadata": {
        "id": "G9mY20eaFQkS"
      }
    },
    {
      "cell_type": "markdown",
      "source": [
        "Q2. How is forward propagation implemented mathematically in a single-layer feedforward neural network?"
      ],
      "metadata": {
        "id": "TG6ziherFQXX"
      }
    },
    {
      "cell_type": "markdown",
      "source": [
        "In a single-layer feedforward neural network, forward propagation is implemented mathematically by computing the dot product of the input vector with the weight vector, and adding the bias term. This produces a weighted sum, which is then passed through an activation function to produce the output of the network. The activation function can be a simple threshold function, such as the step function, or a more complex function, such as the sigmoid function."
      ],
      "metadata": {
        "id": "K9EF2RXxFd9v"
      }
    },
    {
      "cell_type": "markdown",
      "source": [
        "Q3. How are activation functions used during forward propagation?"
      ],
      "metadata": {
        "id": "2mdixWMkFh9-"
      }
    },
    {
      "cell_type": "markdown",
      "source": [
        "Activation functions are used during forward propagation to introduce nonlinearity into the output of each layer. This is important because without nonlinearity, a neural network would simply be a linear function of its inputs. By using an activation function, the output of each layer can be transformed in a nonlinear way, which can increase the representational power of the network and allow it to learn more complex functions. Common activation functions include the sigmoid function, the hyperbolic tangent function, and the rectified linear unit (ReLU) function."
      ],
      "metadata": {
        "id": "OT8FGfBmFleU"
      }
    },
    {
      "cell_type": "markdown",
      "source": [
        "Q4. What is the role of weights and biases in forward propagation?"
      ],
      "metadata": {
        "id": "iaKXmCQhFqaG"
      }
    },
    {
      "cell_type": "markdown",
      "source": [
        "Weights and biases are used in forward propagation to compute the output of each layer in a neural network. Weights are used to transform the input of each layer, while biases are used to shift the output of each layer. During forward propagation, the input is passed through each layer of the network, with each layer applying a linear transformation to the input using its weights and biases. The output of each layer is then passed through an activation function to produce the final output of the network."
      ],
      "metadata": {
        "id": "bkEIjpaOFuWo"
      }
    },
    {
      "cell_type": "markdown",
      "source": [
        "Q5. What is the purpose of applying a softmax function in the output layer during forward propagation?\n"
      ],
      "metadata": {
        "id": "Pmy2OrrfFyj4"
      }
    },
    {
      "cell_type": "markdown",
      "source": [
        "The purpose of applying a softmax function in the output layer during forward propagation is to convert the output of the network into a probability distribution over the possible classes. This is important for classification tasks, where the goal is to predict the probability of each class given an input. The softmax function takes the output of the network and normalizes it so that the sum of the probabilities of all the classes is equal to one. This makes it easy to interpret the output of the network as a probability distribution over the possible classes."
      ],
      "metadata": {
        "id": "gxc4pF0EF1Ic"
      }
    },
    {
      "cell_type": "markdown",
      "source": [
        "Q6. What is the purpose of backward propagation in a neural network?"
      ],
      "metadata": {
        "id": "0ryqecYXF5bu"
      }
    },
    {
      "cell_type": "markdown",
      "source": [
        "Backward propagation is used to update the weights and biases of a neural network during training. It works by computing the gradient of the loss function with respect to the weights and biases of the network, and then using this gradient to update the parameters using an optimization algorithm, such as stochastic gradient descent. By iteratively applying backward propagation and updating the parameters of the network, the network can learn to make better predictions on the training data."
      ],
      "metadata": {
        "id": "Ej9xNpaeGLnA"
      }
    },
    {
      "cell_type": "markdown",
      "source": [
        "Q7. How is backward propagation mathematically calculated in a single-layer feedforward neural network?"
      ],
      "metadata": {
        "id": "ptPQYbUxGX0U"
      }
    },
    {
      "cell_type": "markdown",
      "source": [
        "In a single-layer feedforward neural network, backward propagation is mathematically calculated using the chain rule of calculus to compute the gradient of the loss function with respect to the weights and biases of the network. The gradient is then used to update the parameters of the network using an optimization algorithm, such as stochastic gradient descent. The update rule involves subtracting a fraction of the gradient from the current value of the parameter, with the fraction being determined by the learning rate. This process is repeated for each training example in the dataset, allowing the network to learn to make better predictions over time."
      ],
      "metadata": {
        "id": "IQ3dVHFqGd6f"
      }
    },
    {
      "cell_type": "markdown",
      "source": [
        "Q8. Can you explain the concept of the chain rule and its application in backward propagation?"
      ],
      "metadata": {
        "id": "OYLnPIYIGhT0"
      }
    },
    {
      "cell_type": "markdown",
      "source": [
        "Sure! The chain rule is a rule from calculus that allows us to compute the derivative of a composite function. In the context of neural networks, the chain rule is used to compute the gradient of the loss function with respect to the weights and biases of the network. This is done by computing the gradient of the loss function with respect to the output of each layer, and then using the chain rule to compute the gradient of the loss function with respect to the weights and biases of each layer. This gradient is then used to update the parameters of the network using an optimization algorithm, such as stochastic gradient descent."
      ],
      "metadata": {
        "id": "ldmmOfF4GkkW"
      }
    },
    {
      "cell_type": "markdown",
      "source": [
        "Q9. What are some common challenges or issues that can occur during backward propagation, and how\n",
        "can they be addressed?"
      ],
      "metadata": {
        "id": "nvzgIQfPGnsD"
      }
    },
    {
      "cell_type": "markdown",
      "source": [
        "Backward propagation can be challenging due to issues such as vanishing gradients, exploding gradients, and overfitting. Vanishing gradients occur when the gradient of the loss function with respect to the weights and biases becomes very small, making it difficult to update the parameters of the network. Exploding gradients occur when the gradient becomes very large, causing the parameters to update too much and destabilizing the network. Overfitting occurs when the network becomes too complex and starts to memorize the training data instead of learning to generalize to new data.\n",
        "\n",
        "To address these issues, various techniques have been developed, such as weight initialization, gradient clipping, and regularization. Weight initialization involves setting the initial values of the weights and biases to appropriate values to avoid vanishing or exploding gradients. Gradient clipping involves capping the magnitude of the gradients to avoid exploding gradients. Regularization involves adding a penalty term to the loss function to discourage the network from becoming too complex and overfitting the training data. These techniques can help improve the stability and performance of the network during training."
      ],
      "metadata": {
        "id": "M2c_ORrUGsKg"
      }
    },
    {
      "cell_type": "code",
      "source": [],
      "metadata": {
        "id": "Pt0lp-8frdaj"
      },
      "execution_count": null,
      "outputs": []
    }
  ]
}