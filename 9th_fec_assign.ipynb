{
  "nbformat": 4,
  "nbformat_minor": 0,
  "metadata": {
    "colab": {
      "provenance": []
    },
    "kernelspec": {
      "name": "python3",
      "display_name": "Python 3"
    },
    "language_info": {
      "name": "python"
    }
  },
  "cells": [
    {
      "cell_type": "code",
      "source": [],
      "metadata": {
        "id": "6a-y1uWcdE0p"
      },
      "execution_count": null,
      "outputs": []
    },
    {
      "cell_type": "markdown",
      "source": [
        "Ans(1)=>\n",
        "\n",
        "class= A class is a blueprint for an object. A class contains attribute and methods.\n",
        "\n",
        "Object=> Object is an instance of a class. It is a data structure that contains data in form of attribute and methods.\n",
        "\n",
        "example= \n",
        "\n",
        "class Vehicle:\n",
        "  def __init__(self,model,year):\n",
        "  self.model = model\n",
        "  self.year = year\n",
        "\n",
        "Polo = Vehicle('petrol',2022)"
      ],
      "metadata": {
        "id": "DkHhGc6_dcXC"
      }
    },
    {
      "cell_type": "markdown",
      "source": [
        "Ans(2)=>\n",
        "\n",
        "Four pillar of OOPs-\n",
        "1)Encapsulation\n",
        "2)Inheritance\n",
        "3)Polymorphism\n",
        "4)Abstraction"
      ],
      "metadata": {
        "id": "HG3CcFdJdEvg"
      }
    },
    {
      "cell_type": "markdown",
      "source": [
        "Ans(3)=>\n",
        "\n",
        "__init__ is used for the initialisation of parameter, the first parameter to init functionis is self always. "
      ],
      "metadata": {
        "id": "RZ2K7wc4fNys"
      }
    },
    {
      "cell_type": "markdown",
      "source": [
        "ans(4)=> \n",
        "Self is the first parameter for the class methods, when we call a method on an object, python automatically passes the object as the first the first argument to the method. "
      ],
      "metadata": {
        "id": "lo1deT1efqwg"
      }
    },
    {
      "cell_type": "markdown",
      "source": [
        "Ans(5)=>\n",
        "\n",
        "Inheritence is a one of four pillars of OOPs, By using this concept we can create a new class from the existing class and inherit the attribute and method of base class to new class.\n",
        "\n",
        "types of inheritance=\n",
        "1)multi level\n",
        "2)multiple \n",
        "3)single"
      ],
      "metadata": {
        "id": "JmN6fsNmgXOa"
      }
    },
    {
      "cell_type": "code",
      "source": [],
      "metadata": {
        "id": "Ke-xdYppfk3I"
      },
      "execution_count": null,
      "outputs": []
    }
  ]
}