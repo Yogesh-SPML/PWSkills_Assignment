{
  "nbformat": 4,
  "nbformat_minor": 0,
  "metadata": {
    "colab": {
      "provenance": []
    },
    "kernelspec": {
      "name": "python3",
      "display_name": "Python 3"
    },
    "language_info": {
      "name": "python"
    }
  },
  "cells": [
    {
      "cell_type": "markdown",
      "source": [
        "Q1. What are the three measures of central tendency?"
      ],
      "metadata": {
        "id": "i8uLintfx2ZX"
      }
    },
    {
      "cell_type": "markdown",
      "source": [
        "The three measures of central tendency are mean, median, and mode.\n"
      ],
      "metadata": {
        "id": "0NBseYnhx4AB"
      }
    },
    {
      "cell_type": "markdown",
      "source": [
        "Q2. What is the difference between the mean, median, and mode? How are they used to measure the\n",
        "central tendency of a dataset?"
      ],
      "metadata": {
        "id": "sHhDcaNYx-WF"
      }
    },
    {
      "cell_type": "markdown",
      "source": [
        "Mean is the average of all the numbers in a dataset, median is the middle value of a dataset when it is arranged in order, and mode is the value that appears most frequently in a dataset. They are used to measure the central tendency of a dataset by giving us an idea of where the \"center\" of the data lies."
      ],
      "metadata": {
        "id": "ol100cc5x_x_"
      }
    },
    {
      "cell_type": "markdown",
      "source": [
        "```\n",
        "Q3. Measure the three measures of central tendency for the given height data:\n",
        "[178,177,176,177,178.2,178,175,179,180,175,178.9,176.2,177,172.5,178,176.5]\n",
        "\n",
        "```\n"
      ],
      "metadata": {
        "id": "adUHyMYbyL64"
      }
    },
    {
      "cell_type": "markdown",
      "source": [
        "Mean: 177.5667, Median: 177.5, Mode: 178."
      ],
      "metadata": {
        "id": "2q_IGBg4yP3f"
      }
    },
    {
      "cell_type": "markdown",
      "source": [
        "```\n",
        "Q4. Find the standard deviation for the given data:\n",
        "[178,177,176,177,178.2,178,175,179,180,175,178.9,176.2,177,172.5,178,176.5]|\n",
        "```"
      ],
      "metadata": {
        "id": "_ERsVIxxyU11"
      }
    },
    {
      "cell_type": "markdown",
      "source": [
        "The standard deviation for the given data is 2.391."
      ],
      "metadata": {
        "id": "CLMcvufKzT6v"
      }
    },
    {
      "cell_type": "markdown",
      "source": [
        "Q5. How are measures of dispersion such as range, variance, and standard deviation used to describe\n",
        "the spread of a dataset? Provide an example."
      ],
      "metadata": {
        "id": "YUEA3KXkzVDL"
      }
    },
    {
      "cell_type": "markdown",
      "source": [
        "Measures of dispersion such as range, variance, and standard deviation are used to describe the spread of a dataset by showing how much the data varies from the mean. \n",
        "\n",
        "For example, let's consider two datasets: Dataset A and Dataset B. \n",
        "\n",
        "Dataset A: [10, 20, 30, 40, 50]\n",
        "Dataset B: [10, 50, 30, 20, 40]\n",
        "\n",
        "Both datasets have the same mean of 30. However, Dataset A is less spread out than Dataset B. We can see this by calculating the measures of dispersion for both datasets. \n",
        "\n",
        "- Range: The range of Dataset A is 40 (50-10), while the range of Dataset B is 40 (50-10). Both datasets have the same range, so the range doesn't help us differentiate between them. \n",
        "- Variance: The variance of Dataset A is 250, while the variance of Dataset B is 200. Dataset B has a smaller variance than Dataset A, indicating that the data is less spread out. \n",
        "- Standard deviation: The standard deviation of Dataset A is 15.81, while the standard deviation of Dataset B is 14.14. Again, Dataset B has a smaller standard deviation than Dataset A, indicating that the data is less spread out. \n",
        "\n",
        "Therefore, we can see that the measures of dispersion help us describe the spread of a dataset by showing how much the data varies from the mean. In this example, Dataset B is less spread out than Dataset A, despite having the same mean."
      ],
      "metadata": {
        "id": "tbzLETvQ0-dE"
      }
    },
    {
      "cell_type": "markdown",
      "source": [
        "Q6. What is a Venn diagram?"
      ],
      "metadata": {
        "id": "ZFcR7exN1Bpt"
      }
    },
    {
      "cell_type": "markdown",
      "source": [
        "A Venn diagram is a graphical representation of the relationships between different sets of data."
      ],
      "metadata": {
        "id": "nNs37DPv1CUu"
      }
    },
    {
      "cell_type": "markdown",
      "source": [
        "Q8. What do you understand about skewness in data?"
      ],
      "metadata": {
        "id": "BvZeRzmf1WM0"
      }
    },
    {
      "cell_type": "markdown",
      "source": [
        "Skewness in data refers to the asymmetry of the data distribution. In other words, it describes the extent to which the data is not symmetrically distributed around the mean. Skewness can be positive, negative, or zero. "
      ],
      "metadata": {
        "id": "ad3ueWzo1iHD"
      }
    },
    {
      "cell_type": "markdown",
      "source": [
        "Q9. If a data is right skewed then what will be the position of median with respect to mean?"
      ],
      "metadata": {
        "id": "xINtckIJ1qG8"
      }
    },
    {
      "cell_type": "markdown",
      "source": [
        "If a data is right skewed, then the median will be less than the mean.\n"
      ],
      "metadata": {
        "id": "tBcqgiwp2ChQ"
      }
    },
    {
      "cell_type": "markdown",
      "source": [
        "Q10. Explain the difference between covariance and correlation. How are these measures used in\n",
        "statistical analysis?"
      ],
      "metadata": {
        "id": "f7zJRL_b2G0l"
      }
    },
    {
      "cell_type": "markdown",
      "source": [
        "Covariance and correlation are both measures of the relationship between two variables. However, they differ in how they normalize the data and therefore in the interpretation of their values.\n",
        "Covariance and correlation are both used in statistical analysis to understand the relationship between two variables. However, correlation is more commonly used because it is a standardized measure that allows for comparison across different datasets. Covariance is less commonly used because it is not standardized and therefore the magnitude of the covariance depends on the scale of the data."
      ],
      "metadata": {
        "id": "mGLZWbj_2XoY"
      }
    },
    {
      "cell_type": "markdown",
      "source": [
        "Q13. How is covariance different from correlation?"
      ],
      "metadata": {
        "id": "j-2wDdd_2jxj"
      }
    },
    {
      "cell_type": "markdown",
      "source": [
        "In summary, covariance measures the direction and magnitude of the relationship between two variables, while correlation measures the strength and direction of the relationship between two variables, but is not affected by the scale of the variables."
      ],
      "metadata": {
        "id": "8LdH_a7c2pc8"
      }
    },
    {
      "cell_type": "markdown",
      "source": [
        "Q14. How do outliers affect measures of central tendency and dispersion? Provide an example."
      ],
      "metadata": {
        "id": "tJjzTshi2y3R"
      }
    },
    {
      "cell_type": "markdown",
      "source": [
        "Outliers can have a significant effect on measures of central tendency and dispersion, particularly on the mean and standard deviation.\n",
        "\n",
        "For example, consider a dataset of test scores for a class of 20 students:\n",
        "\n",
        "50, 55, 60, 65, 70, 75, 80, 85, 90, 95, 100, 100, 100, 100, 100, 100, 100, 100, 100, 100\n",
        "\n",
        "The mean score is 85, which is a good measure of the central tendency of the data. However, the standard deviation is 22.5, which is much larger than expected, indicating that the data is more spread out than it appears. This is due to the presence of outliers - specifically, the 11 scores of 100. These scores are much higher than the rest of the data, and pull the mean up and the standard deviation up.\n",
        "\n",
        "In summary, outliers can cause measures of central tendency to be skewed in the direction of the outlier, and can cause measures of dispersion to be larger than expected. It is important to identify and handle outliers appropriately in order to get an accurate picture of the data."
      ],
      "metadata": {
        "id": "aZX2-WMw23Cl"
      }
    },
    {
      "cell_type": "code",
      "source": [],
      "metadata": {
        "id": "7Phb_Rojx3Oh"
      },
      "execution_count": null,
      "outputs": []
    }
  ]
}